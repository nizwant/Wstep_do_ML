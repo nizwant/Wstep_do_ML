{
 "cells": [
  {
   "cell_type": "code",
   "execution_count": null,
   "id": "89c01f20",
   "metadata": {},
   "outputs": [],
   "source": [
    "import numpy as np\n",
    "import pandas as pd\n",
    "import matplotlib.pyplot as plt\n",
    "import math\n",
    "import seaborn as sb\n",
    "from sklearn.model_selection import train_test_split\n",
    "from sklearn.feature_selection import SelectFromModel\n",
    "from sklearn.ensemble import RandomForestClassifier\n",
    "from sklearn.preprocessing import LabelEncoder\n",
    "from sklearn.metrics import confusion_matrix\n",
    "import seaborn as sns\n",
    "from xgboost import XGBClassifier"
   ]
  },
  {
   "cell_type": "code",
   "execution_count": null,
   "id": "0b3637bc",
   "metadata": {},
   "outputs": [],
   "source": [
    "plt.rcParams['figure.figsize'] = [10, 5]"
   ]
  },
  {
   "cell_type": "code",
   "execution_count": null,
   "id": "d4865843",
   "metadata": {
    "scrolled": true
   },
   "outputs": [],
   "source": [
    "df = pd.read_csv('data/Android_Malware.csv', low_memory = False)\n",
    "df.head()"
   ]
  },
  {
   "cell_type": "markdown",
   "id": "387eadb3",
   "metadata": {},
   "source": [
    "Dzielenie na train/test/ walidacje"
   ]
  },
  {
   "cell_type": "code",
   "execution_count": null,
   "id": "07cad858",
   "metadata": {},
   "outputs": [],
   "source": [
    "X_train, X_test_tmp, y_train, y_test_tmp = train_test_split(\n",
    "    df[df.columns.values[:-1]],\n",
    "    df[df.columns.values[-1]],\n",
    "    test_size=0.4, random_state=213)"
   ]
  },
  {
   "cell_type": "code",
   "execution_count": null,
   "id": "be4b3068",
   "metadata": {},
   "outputs": [],
   "source": [
    "X_test, X_validation, y_test, y_validation = train_test_split(\n",
    "    X_test_tmp,\n",
    "    y_test_tmp,\n",
    "    test_size=0.5, random_state=7)"
   ]
  },
  {
   "cell_type": "code",
   "execution_count": null,
   "id": "c7a377d5",
   "metadata": {},
   "outputs": [],
   "source": [
    "X_validation"
   ]
  },
  {
   "cell_type": "code",
   "execution_count": null,
   "id": "35e78046",
   "metadata": {},
   "outputs": [],
   "source": [
    "df = X_train \n",
    "df[\"Label\"] = y_train"
   ]
  },
  {
   "cell_type": "code",
   "execution_count": null,
   "id": "9f5aeb9f",
   "metadata": {
    "scrolled": true
   },
   "outputs": [],
   "source": [
    "df.info()"
   ]
  },
  {
   "cell_type": "markdown",
   "id": "6e6a9c01",
   "metadata": {},
   "source": [
    "jak wygladaja najpopularniejsze wartosci w kazdej z kolumn"
   ]
  },
  {
   "cell_type": "code",
   "execution_count": null,
   "id": "da0572d9",
   "metadata": {},
   "outputs": [],
   "source": [
    "for col in df.columns:\n",
    "    print(f\"Top 10 most common values in {col}:\")\n",
    "    print(df[col].value_counts().nlargest(10))\n",
    "    print()"
   ]
  },
  {
   "cell_type": "markdown",
   "id": "c357d8ad",
   "metadata": {},
   "source": [
    "ilosc unikalnych wartosci w kazdej z kolumn"
   ]
  },
  {
   "cell_type": "code",
   "execution_count": null,
   "id": "9eddf765",
   "metadata": {
    "scrolled": true
   },
   "outputs": [],
   "source": [
    "with pd.option_context('display.max_rows', None):\n",
    "    print(df.nunique(dropna=False))"
   ]
  },
  {
   "cell_type": "markdown",
   "id": "fd9595eb",
   "metadata": {},
   "source": [
    "rozklad przewidywanej cechy"
   ]
  },
  {
   "cell_type": "code",
   "execution_count": null,
   "id": "664a7f29",
   "metadata": {},
   "outputs": [],
   "source": [
    "df.iloc[:, -1].hist()"
   ]
  },
  {
   "cell_type": "markdown",
   "id": "254a4735",
   "metadata": {},
   "source": [
    "\"Adware jest niechcianym oprogramowaniem służącym do wyświetlania reklam na Twoim ekranie\". Adware generuje przychody dla swoich twórców dzięki automatycznemu wyświetlaniu internetowych reklam w interfejsie użytkownika danej aplikacji lub w formie okienek wyskakujących podczas procesu instalacji.\n",
    "\n",
    "Scareware is a type of malware attack that claims to have detected a virus or other issue on a device and directs the user to download or buy malicious software to resolve the problem. Generally speaking, scareware is the gateway to a more intricate cyberattack and not an attack in and of itself.\n",
    "\n",
    "benign - having no harmful influence or effect"
   ]
  },
  {
   "cell_type": "markdown",
   "id": "21cf4ec5",
   "metadata": {},
   "source": [
    "Wszystkie NA są skumulowane we wierszach które można policzyć na palcach jedner ręki można je usunąć"
   ]
  },
  {
   "cell_type": "code",
   "execution_count": null,
   "id": "80b23273",
   "metadata": {},
   "outputs": [],
   "source": [
    "df = df.dropna()"
   ]
  },
  {
   "cell_type": "markdown",
   "id": "c0616392",
   "metadata": {},
   "source": [
    "Usunięcie kolumn które mają tylko jedną wartość"
   ]
  },
  {
   "cell_type": "code",
   "execution_count": null,
   "id": "c0367251",
   "metadata": {},
   "outputs": [],
   "source": [
    "col_to_drop = df.columns[df.nunique() <= 1]\n",
    "df = df.drop(columns = col_to_drop)"
   ]
  },
  {
   "cell_type": "markdown",
   "id": "f7003c72",
   "metadata": {},
   "source": [
    "Usunięcie kolumn ID, i dwóch kolumn w których są same zera ale zapisane na różne sposoby (int, str, float)"
   ]
  },
  {
   "cell_type": "markdown",
   "id": "bac17a43",
   "metadata": {},
   "source": [
    "Ta kolumna ma wartości które są int i float, zrzutujemy je na int"
   ]
  },
  {
   "cell_type": "code",
   "execution_count": null,
   "id": "a43200ca",
   "metadata": {},
   "outputs": [],
   "source": [
    "df.info()"
   ]
  },
  {
   "cell_type": "code",
   "execution_count": null,
   "id": "dd81c20d",
   "metadata": {},
   "outputs": [],
   "source": [
    "def select_correlated_columns_to_remove(df, corr_treshold):\n",
    "    cor_lis = []\n",
    "    cor = df.corr(method=\"spearman\")\n",
    "    for i, _ in enumerate(cor.columns):\n",
    "        for j, col_name_to_drop in enumerate(cor.columns):\n",
    "            if i < j and (abs(cor.iloc[i,j]) > corr_treshold or math.isnan(cor.iloc[i,j])):\n",
    "                cor_lis.append(col_name_to_drop)\n",
    "    return cor_lis"
   ]
  },
  {
   "cell_type": "code",
   "execution_count": null,
   "id": "f14c75fd",
   "metadata": {
    "scrolled": false
   },
   "outputs": [],
   "source": [
    "cor_lis = select_correlated_columns_to_remove(df, 0.95)\n",
    "df=df.drop(cor_lis,axis =1 )"
   ]
  },
  {
   "cell_type": "code",
   "execution_count": null,
   "id": "d2b7e7d4",
   "metadata": {},
   "outputs": [],
   "source": [
    "def transform_data(X,y):\n",
    "    df = X\n",
    "    df[\"Label\"] = y\n",
    "    df = df.dropna()\n",
    "    df = df.drop(columns = col_to_drop)\n",
    "    df = df.drop(columns = [\"Unnamed: 0\", \"Flow ID\", \" CWE Flag Count\", \"Fwd Avg Bytes/Bulk\"])\n",
    "    \n",
    "    \n",
    "    ip = list(df[' Source IP'])\n",
    "    ip = [[int(ip[i].split('.')[j]) for j in range(len(ip[i].split('.')))] for i in range(len(ip))]\n",
    "    ip = pd.DataFrame(ip).fillna(0)\n",
    "    ip.columns = ['Source IP1','Source IP2',\"Source IP3\",\"Source IP4\"]\n",
    "    ip2 = list(df[' Destination IP'])\n",
    "    ip2 = [[int(ip2[i].split('.')[j]) for j in range(len(ip2[i].split('.')))] for i in range(len(ip2))]\n",
    "    ip2 = pd.DataFrame(ip2).fillna(0)\n",
    "    ip2.columns = ['Destination IP1','Destination IP2',\"Destination IP3\",\"Destination IP4\"]\n",
    "    ip = pd.concat([ip,ip2], axis = 1)\n",
    "    df = pd.concat([df.reset_index(),ip],axis = 1).drop('index', axis = 1)\n",
    "    \n",
    "    \n",
    "    mapping_dict = {\"Benign\": 0,\n",
    "                \"Android_Scareware\":1,\n",
    "                \"Android_Adware\": 2,\n",
    "                \"Android_SMS_Malware\":3}\n",
    "    \n",
    "  \n",
    "    \n",
    "    df[\"Label\"] = pd.Series(df[\"Label\"]).map(mapping_dict)\n",
    "    \n",
    "    one_hot = pd.get_dummies(df[' Protocol'])\n",
    "    df = df.drop([' Protocol',' Timestamp',\" Source IP\",\" Destination IP\",' Down/Up Ratio'],axis = 1)\n",
    " \n",
    "    \n",
    "    df = df.drop(cor_lis, axis = 1, errors='ignore').astype('double')\n",
    "    return df.drop(\"Label\", axis=1), df[\"Label\"]"
   ]
  },
  {
   "cell_type": "code",
   "execution_count": null,
   "id": "c1869dd2",
   "metadata": {
    "scrolled": true
   },
   "outputs": [],
   "source": [
    "X_test, y_test = transform_data(X_validation, y_validation)\n",
    "X_train, y_train = transform_data(X_train, y_train)"
   ]
  },
  {
   "cell_type": "code",
   "execution_count": null,
   "id": "a1f8a8cb",
   "metadata": {},
   "outputs": [],
   "source": [
    "#le = LabelEncoder()\n",
    "#df = pd.concat([X_train,X_test], axis = 0)\n",
    "#len(X_train)"
   ]
  },
  {
   "cell_type": "code",
   "execution_count": null,
   "id": "f829ed00",
   "metadata": {},
   "outputs": [],
   "source": [
    "#df[\" Source IP\"] = le.fit_transform(df[\" Source IP\"])\n",
    "#df[\" Destination IP\"] = le.fit_transform(df[\" Destination IP\"])\n",
    "#X_train = df.iloc[0:len(X_train)].astype('double')\n",
    "#X_test = df.iloc[len(X_train):len(df)].astype('double')"
   ]
  },
  {
   "cell_type": "code",
   "execution_count": null,
   "id": "9011c83b",
   "metadata": {},
   "outputs": [],
   "source": [
    "X_train.info()"
   ]
  },
  {
   "cell_type": "code",
   "execution_count": null,
   "id": "7f294379",
   "metadata": {},
   "outputs": [],
   "source": [
    "X_test.info()"
   ]
  },
  {
   "cell_type": "code",
   "execution_count": null,
   "id": "cff2cc42",
   "metadata": {},
   "outputs": [],
   "source": [
    "model=XGBClassifier(random_state=1,\n",
    "                    learning_rate=0.25,\n",
    "                    booster='gbtree', \n",
    "                    max_depth=15,\n",
    "                    n_estimators=300\n",
    "                    )\n",
    "model.fit(X_train, y_train)\n",
    "model.score(X_test,y_test)"
   ]
  },
  {
   "cell_type": "code",
   "execution_count": null,
   "id": "234d7f20",
   "metadata": {},
   "outputs": [],
   "source": [
    "mapping_dict = {\"Benign\": 0,\n",
    "            \"Android_Scareware\":1,\n",
    "            \"Android_Adware\": 2,\n",
    "            \"Android_SMS_Malware\":3}"
   ]
  },
  {
   "cell_type": "code",
   "execution_count": null,
   "id": "b5cf98f2",
   "metadata": {
    "scrolled": true
   },
   "outputs": [],
   "source": [
    "y_predicted = model.predict(X_test)\n",
    "conf = confusion_matrix(y_test,y_predicted)\n",
    "print(conf)\n",
    "sns.heatmap(conf,annot=True,cmap='Blues', fmt='g', \n",
    "            yticklabels=['Benign', 'Android_Scareware', 'Android_Adware', 'Android_SMS_Malware'],\n",
    "            xticklabels=['Benign', 'Android_Scareware', 'Android_Adware', 'Android_SMS_Malware'])\n",
    "plt.ylabel('True label')\n",
    "plt.xlabel('Predicted label')\n",
    "plt.title(\"confusion_matrix\")"
   ]
  },
  {
   "cell_type": "code",
   "execution_count": null,
   "id": "8f27bf28",
   "metadata": {},
   "outputs": [],
   "source": [
    "axis_labels = ['Benign', 'Scareware', 'Adware', 'SMS Malware']\n",
    "y_predicted = model.predict(X_test)\n",
    "conf = confusion_matrix(y_test,y_predicted)\n",
    "\n",
    "#labels\n",
    "labels = np.zeros((len(conf), len(conf)), dtype=object)\n",
    "for i,row in enumerate(conf):\n",
    "    for j,cell in enumerate(row):\n",
    "        labels[i][j] = f\"{cell}\\n{round(cell*100/sum(conf[i]),1)}%\" \n",
    "\n",
    "sns.heatmap(conf,annot=labels,\n",
    "            cmap='Blues', fmt = '',  \n",
    "            yticklabels=axis_labels,\n",
    "            xticklabels=axis_labels)\n",
    "plt.ylabel('True label')\n",
    "plt.xlabel('Predicted label')\n",
    "plt.title(\"confusion_matrix\")"
   ]
  },
  {
   "cell_type": "code",
   "execution_count": null,
   "id": "146d3879",
   "metadata": {},
   "outputs": [],
   "source": [
    "from xgboost import plot_importance\n",
    "plot_importance(model, max_num_features=10, height= 0.6)\n",
    "plt.grid(axis='y')\n",
    "plt.show()"
   ]
  }
 ],
 "metadata": {
  "kernelspec": {
   "display_name": "Python 3 (ipykernel)",
   "language": "python",
   "name": "python3"
  },
  "language_info": {
   "codemirror_mode": {
    "name": "ipython",
    "version": 3
   },
   "file_extension": ".py",
   "mimetype": "text/x-python",
   "name": "python",
   "nbconvert_exporter": "python",
   "pygments_lexer": "ipython3",
   "version": "3.9.7"
  }
 },
 "nbformat": 4,
 "nbformat_minor": 5
}
