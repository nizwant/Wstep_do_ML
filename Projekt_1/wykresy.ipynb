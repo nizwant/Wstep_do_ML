{
 "cells": [
  {
   "cell_type": "code",
   "execution_count": null,
   "id": "89c01f20",
   "metadata": {},
   "outputs": [],
   "source": [
    "import numpy as np\n",
    "import pandas as pd\n",
    "import matplotlib.pyplot as plt\n",
    "import math\n",
    "from sklearn.model_selection import train_test_split\n",
    "from sklearn.feature_selection import SelectFromModel\n",
    "from sklearn.ensemble import RandomForestClassifier\n",
    "from sklearn.metrics import confusion_matrix\n",
    "import seaborn as sns\n",
    "from xgboost import XGBClassifier\n",
    "from sklearn.metrics import roc_curve\n",
    "from sklearn.metrics import RocCurveDisplay\n",
    "from sklearn.model_selection import GridSearchCV\n",
    "from sklearn.model_selection import cross_val_score\n",
    "from xgboost import plot_importance"
   ]
  },
  {
   "cell_type": "code",
   "execution_count": null,
   "id": "0b3637bc",
   "metadata": {},
   "outputs": [],
   "source": [
    "plt.rcParams['figure.figsize'] = [10, 5]"
   ]
  },
  {
   "cell_type": "code",
   "execution_count": null,
   "id": "d4865843",
   "metadata": {
    "scrolled": true
   },
   "outputs": [],
   "source": [
    "df = pd.read_csv('data/Android_Malware.csv', low_memory = False)\n",
    "df"
   ]
  },
  {
   "cell_type": "markdown",
   "id": "387eadb3",
   "metadata": {},
   "source": [
    "### Dzielenie na train/test/ walidacje oraz analiza danych"
   ]
  },
  {
   "cell_type": "code",
   "execution_count": null,
   "id": "07cad858",
   "metadata": {},
   "outputs": [],
   "source": [
    "X_train, X_test_tmp, y_train, y_test_tmp = train_test_split(\n",
    "    df[df.columns.values[:-1]],\n",
    "    df[df.columns.values[-1]],\n",
    "    test_size=0.4, random_state=213)"
   ]
  },
  {
   "cell_type": "code",
   "execution_count": null,
   "id": "be4b3068",
   "metadata": {},
   "outputs": [],
   "source": [
    "X_test, X_validation, y_test, y_validation = train_test_split(\n",
    "    X_test_tmp,\n",
    "    y_test_tmp,\n",
    "    test_size=0.5, random_state=7)"
   ]
  },
  {
   "cell_type": "code",
   "execution_count": null,
   "id": "35e78046",
   "metadata": {},
   "outputs": [],
   "source": [
    "df = X_train \n",
    "df[\"Label\"] = y_train"
   ]
  },
  {
   "cell_type": "code",
   "execution_count": null,
   "id": "9f5aeb9f",
   "metadata": {
    "scrolled": true
   },
   "outputs": [],
   "source": [
    "df.info()"
   ]
  },
  {
   "cell_type": "markdown",
   "id": "6e6a9c01",
   "metadata": {},
   "source": [
    "jak wygladaja najpopularniejsze wartosci w kazdej z kolumn"
   ]
  },
  {
   "cell_type": "code",
   "execution_count": null,
   "id": "da0572d9",
   "metadata": {},
   "outputs": [],
   "source": [
    "for col in df.columns:\n",
    "    print(f\"Top 10 most common values in {col}:\")\n",
    "    print(df[col].value_counts().nlargest(10))\n",
    "    print()"
   ]
  },
  {
   "cell_type": "markdown",
   "id": "c357d8ad",
   "metadata": {},
   "source": [
    "ilosc unikalnych wartosci w kazdej z kolumn"
   ]
  },
  {
   "cell_type": "code",
   "execution_count": null,
   "id": "9eddf765",
   "metadata": {
    "scrolled": true
   },
   "outputs": [],
   "source": [
    "with pd.option_context('display.max_rows', None):\n",
    "    print(df.nunique(dropna=False))"
   ]
  },
  {
   "cell_type": "markdown",
   "id": "fd9595eb",
   "metadata": {},
   "source": [
    "rozklad przewidywanej cechy"
   ]
  },
  {
   "cell_type": "code",
   "execution_count": null,
   "id": "664a7f29",
   "metadata": {},
   "outputs": [],
   "source": [
    "df.iloc[:, -1].hist()"
   ]
  },
  {
   "cell_type": "markdown",
   "id": "254a4735",
   "metadata": {},
   "source": [
    "\"Adware jest niechcianym oprogramowaniem służącym do wyświetlania reklam na Twoim ekranie\". Adware generuje przychody dla swoich twórców dzięki automatycznemu wyświetlaniu internetowych reklam w interfejsie użytkownika danej aplikacji lub w formie okienek wyskakujących podczas procesu instalacji.\n",
    "\n",
    "Scareware is a type of malware attack that claims to have detected a virus or other issue on a device and directs the user to download or buy malicious software to resolve the problem. Generally speaking, scareware is the gateway to a more intricate cyberattack and not an attack in and of itself.\n",
    "\n",
    "benign - having no harmful influence or effect"
   ]
  },
  {
   "cell_type": "markdown",
   "id": "21cf4ec5",
   "metadata": {},
   "source": [
    "Wszystkie NA są skumulowane we wierszach które można policzyć na palcach jedner ręki można je usunąć"
   ]
  },
  {
   "cell_type": "code",
   "execution_count": null,
   "id": "80b23273",
   "metadata": {},
   "outputs": [],
   "source": [
    "df = df.dropna()"
   ]
  },
  {
   "cell_type": "markdown",
   "id": "c0616392",
   "metadata": {},
   "source": [
    "Usunięcie kolumn które mają tylko jedną wartość"
   ]
  },
  {
   "cell_type": "code",
   "execution_count": null,
   "id": "c0367251",
   "metadata": {},
   "outputs": [],
   "source": [
    "col_to_drop = df.columns[df.nunique() <= 1]\n",
    "df = df.drop(columns = col_to_drop)"
   ]
  },
  {
   "cell_type": "markdown",
   "id": "f7003c72",
   "metadata": {},
   "source": [
    "Usunięcie kolumn ID, i dwóch kolumn w których są same zera ale zapisane na różne sposoby (int, str, float)"
   ]
  },
  {
   "cell_type": "markdown",
   "id": "bac17a43",
   "metadata": {},
   "source": [
    "Ta kolumna ma wartości które są int i float, zrzutujemy je na int"
   ]
  },
  {
   "cell_type": "code",
   "execution_count": null,
   "id": "a43200ca",
   "metadata": {},
   "outputs": [],
   "source": [
    "df.info()"
   ]
  },
  {
   "cell_type": "markdown",
   "id": "cc83f240",
   "metadata": {},
   "source": [
    "### Usuwanie skorelowanych kolumn oraz transformacja danych"
   ]
  },
  {
   "cell_type": "code",
   "execution_count": null,
   "id": "dd81c20d",
   "metadata": {},
   "outputs": [],
   "source": [
    "def select_correlated_columns_to_remove(df, corr_treshold):\n",
    "    cor_lis = []\n",
    "    cor = df.corr(method=\"spearman\")\n",
    "    for i, _ in enumerate(cor.columns):\n",
    "        for j, col_name_to_drop in enumerate(cor.columns):\n",
    "            if i < j and (abs(cor.iloc[i,j]) > corr_treshold or math.isnan(cor.iloc[i,j])):\n",
    "                cor_lis.append(col_name_to_drop)\n",
    "    return cor_lis"
   ]
  },
  {
   "cell_type": "markdown",
   "id": "a45341b8",
   "metadata": {},
   "source": [
    "Użyliśmy na początku korelacji spearmana, żeby zostawić jak najmniej kolumn i sprawdzić, które z nich są wartościowe. Po policzeniu Auc odrzuciliśmy prawie wszystkie oryginalne kolumny. Zatem nie wracaliśmy już do tego punktu."
   ]
  },
  {
   "cell_type": "code",
   "execution_count": null,
   "id": "f14c75fd",
   "metadata": {
    "scrolled": false
   },
   "outputs": [],
   "source": [
    "cor_lis = select_correlated_columns_to_remove(df, 0.95)\n",
    "df=df.drop(cor_lis,axis =1 )"
   ]
  },
  {
   "cell_type": "code",
   "execution_count": null,
   "id": "d2b7e7d4",
   "metadata": {},
   "outputs": [],
   "source": [
    "def transform_data(X,y):\n",
    "    df = X\n",
    "    df[\"Label\"] = y\n",
    "    df = df.dropna()\n",
    "    df = df.drop(columns = col_to_drop)\n",
    "    df = df.drop(columns = [\"Unnamed: 0\", \"Flow ID\", \" CWE Flag Count\", \"Fwd Avg Bytes/Bulk\",' Protocol',' Down/Up Ratio'])\n",
    "    \n",
    "    ip = list(df[' Source IP'])\n",
    "    ip = [[int(ip[i].split('.')[j]) for j in range(len(ip[i].split('.')))] for i in range(len(ip))]\n",
    "    ip = pd.DataFrame(ip).fillna(0)\n",
    "    ip.columns = ['Source IP1','Source IP2',\"Source IP3\",\"Source IP4\"]\n",
    "    ip2 = list(df[' Destination IP'])\n",
    "    ip2 = [[int(ip2[i].split('.')[j]) for j in range(len(ip2[i].split('.')))] for i in range(len(ip2))]\n",
    "    ip2 = pd.DataFrame(ip2).fillna(0)\n",
    "    ip2.columns = ['Destination IP1','Destination IP2',\"Destination IP3\",\"Destination IP4\"]\n",
    "    ip = pd.concat([ip,ip2], axis = 1)\n",
    "    df = pd.concat([df.reset_index(),ip],axis = 1).drop('index', axis = 1)\n",
    "    \n",
    "    mapping_dict = {\"Benign\": 0,\n",
    "                \"Android_Scareware\":1,\n",
    "                \"Android_Adware\": 2,\n",
    "                \"Android_SMS_Malware\":3}\n",
    "    \n",
    "    df[\"Label\"] = pd.Series(df[\"Label\"]).map(mapping_dict)\n",
    " \n",
    "    df = df.drop(columns = cor_lis,errors='ignore')\n",
    "    return df.drop(\"Label\", axis=1), df[\"Label\"]"
   ]
  },
  {
   "cell_type": "code",
   "execution_count": null,
   "id": "c1869dd2",
   "metadata": {
    "scrolled": true
   },
   "outputs": [],
   "source": [
    "X_test, y_test = transform_data(X_test, y_test)\n",
    "X_train, y_train = transform_data(X_train, y_train)"
   ]
  },
  {
   "cell_type": "markdown",
   "id": "30bd3af5",
   "metadata": {},
   "source": [
    "### Wybór kolumn po tranformacji danych"
   ]
  },
  {
   "cell_type": "code",
   "execution_count": null,
   "id": "d29e6589",
   "metadata": {},
   "outputs": [],
   "source": [
    "\"\"\"\"\n",
    "Sposób w jaki liczyliśmy auc\n",
    "\n",
    "from feature_engine.selection import SelectBySingleFeaturePerformance\n",
    "\n",
    "sel1 = SelectBySingleFeaturePerformance(\n",
    "    estimator=RandomForestClassifier(random_state=1),\n",
    "    scoring='roc_auc'\n",
    ")\n",
    "\n",
    "for i in range(4):\n",
    "    Y = np.select([y_train == i], [1], 0 )\n",
    "    sel1.fit(X_train, Y)\n",
    "    print(sel1.feature_performance_)\n",
    "\"\"\"\n"
   ]
  },
  {
   "cell_type": "markdown",
   "id": "be9ac528",
   "metadata": {},
   "source": [
    "Nie ma sensu za każdym razem liczyć auc, więc wczytamy już policzone. \n",
    "Każde auc odpowiada za wykrywanie 1 kategorii więc jest ich łącznie 4."
   ]
  },
  {
   "cell_type": "code",
   "execution_count": null,
   "id": "7751c64d",
   "metadata": {},
   "outputs": [],
   "source": [
    "auc0={' Source Port': 0.6667803137571054,\n",
    " ' Destination Port': 0.5280530163444412,\n",
    " ' Flow Duration': 0.5432468532109304,\n",
    " ' Total Fwd Packets': 0.5115232835638613,\n",
    " ' Total Backward Packets': 0.5257881750154091,\n",
    " 'Total Length of Fwd Packets': 0.564206596036872,\n",
    " ' Total Length of Bwd Packets': 0.5609472971943124,\n",
    " ' Fwd Packet Length Min': 0.5288376538496439,\n",
    " ' Fwd Packet Length Std': 0.5410624009741203,\n",
    " ' Bwd Packet Length Min': 0.5310371093541425,\n",
    " ' Bwd Packet Length Std': 0.5376187852377542,\n",
    " 'Flow Bytes/s': 0.5226595986307652,\n",
    " ' Flow Packets/s': 0.5341000756469306,\n",
    " ' Flow IAT Std': 0.5098433977150534,\n",
    " ' Flow IAT Min': 0.5419213925068221,\n",
    " 'Fwd IAT Total': 0.5396089111679344,\n",
    " ' Fwd IAT Std': 0.5107185905594186,\n",
    " ' Fwd IAT Min': 0.549299241535541,\n",
    " 'Bwd IAT Total': 0.5101626024184551,\n",
    " ' Bwd IAT Std': 0.5073457412803558,\n",
    " 'Fwd PSH Flags': 0.4995634750962859,\n",
    " ' Fwd Header Length': 0.5293550369946379,\n",
    " ' Bwd Packets/s': 0.523087600852063,\n",
    " 'FIN Flag Count': 0.49969180699706683,\n",
    " ' PSH Flag Count': 0.5056831548783184,\n",
    " ' ACK Flag Count': 0.5075828796322425,\n",
    " ' URG Flag Count': 0.5025464541539769,\n",
    " 'Init_Win_bytes_forward': 0.5686777003883696,\n",
    " ' Init_Win_bytes_backward': 0.5744043850502205,\n",
    " ' act_data_pkt_fwd': 0.5155759304794502,\n",
    " ' min_seg_size_forward': 0.5082642067158343,\n",
    " 'Active Mean': 0.5039074595954259,\n",
    " ' Active Std': 0.5008584278213167,\n",
    " ' Idle Std': 0.5016072510651556,\n",
    " 'Source IP1': 0.5208522632633458,\n",
    " 'Source IP2': 0.5224823089204553,\n",
    " 'Source IP3': 0.522061468243979,\n",
    " 'Source IP4': 0.5704274681398592,\n",
    " 'Destination IP1': 0.5834675438830063,\n",
    " 'Destination IP2': 0.6053260099365425,\n",
    " 'Destination IP3': 0.6391564449566961,\n",
    " 'Destination IP4': 0.6331360322937867}\n",
    "\n",
    "auc1={' Source Port': 0.6095152607547952,\n",
    " ' Destination Port': 0.5260450208036361,\n",
    " ' Flow Duration': 0.5281273614448136,\n",
    " ' Total Fwd Packets': 0.5108599238826574,\n",
    " ' Total Backward Packets': 0.5179758046764285,\n",
    " 'Total Length of Fwd Packets': 0.545840953226306,\n",
    " ' Total Length of Bwd Packets': 0.559587460354607,\n",
    " ' Fwd Packet Length Min': 0.5150061953828514,\n",
    " ' Fwd Packet Length Std': 0.5330914556927385,\n",
    " ' Bwd Packet Length Min': 0.5222729790837767,\n",
    " ' Bwd Packet Length Std': 0.5393663579909972,\n",
    " 'Flow Bytes/s': 0.5141840016015934,\n",
    " ' Flow Packets/s': 0.5234415339130424,\n",
    " ' Flow IAT Std': 0.5073244426784005,\n",
    " ' Flow IAT Min': 0.5254465601232302,\n",
    " 'Fwd IAT Total': 0.5254558091371572,\n",
    " ' Fwd IAT Std': 0.5068278697367655,\n",
    " ' Fwd IAT Min': 0.5280507427475585,\n",
    " 'Bwd IAT Total': 0.5039745923406389,\n",
    " ' Bwd IAT Std': 0.5042883451291047,\n",
    " 'Fwd PSH Flags': 0.5010867151639863,\n",
    " ' Fwd Header Length': 0.5231815422844631,\n",
    " ' Bwd Packets/s': 0.5163463778158034,\n",
    " 'FIN Flag Count': 0.5012267692229343,\n",
    " ' PSH Flag Count': 0.501299177193454,\n",
    " ' ACK Flag Count': 0.5003763616250868,\n",
    " ' URG Flag Count': 0.5057836854464591,\n",
    " 'Init_Win_bytes_forward': 0.5445225899283014,\n",
    " ' Init_Win_bytes_backward': 0.5488982957554105,\n",
    " ' act_data_pkt_fwd': 0.5131342031079205,\n",
    " ' min_seg_size_forward': 0.5080447640893865,\n",
    " 'Active Mean': 0.4997263815266238,\n",
    " ' Active Std': 0.5000967069366542,\n",
    " ' Idle Std': 0.50039666411773,\n",
    " 'Source IP1': 0.5120834867732361,\n",
    " 'Source IP2': 0.513812621724962,\n",
    " 'Source IP3': 0.5176831109568006,\n",
    " 'Source IP4': 0.590142209910279,\n",
    " 'Destination IP1': 0.5669543381574059,\n",
    " 'Destination IP2': 0.5847780097124761,\n",
    " 'Destination IP3': 0.61243985785373,\n",
    " 'Destination IP4': 0.6058817694807083}\n",
    "\n",
    "auc2={' Source Port': 0.619494360969236,\n",
    "\n",
    " ' Destination Port': 0.5522096964193727,\n",
    " ' Flow Duration': 0.565340184513613,\n",
    " ' Total Fwd Packets': 0.5288163459577616,\n",
    " ' Total Backward Packets': 0.5432622240389144,\n",
    " 'Total Length of Fwd Packets': 0.5797146557503599,\n",
    " ' Total Length of Bwd Packets': 0.589504149307628,\n",
    " ' Fwd Packet Length Min': 0.5281609705719504,\n",
    " ' Fwd Packet Length Std': 0.5622176644585165,\n",
    " ' Bwd Packet Length Min': 0.5359076230719914,\n",
    " ' Bwd Packet Length Std': 0.5621001539754732,\n",
    " 'Flow Bytes/s': 0.5384421326083486,\n",
    " ' Flow Packets/s': 0.5587014714464367,\n",
    " ' Flow IAT Std': 0.5355029736402083,\n",
    " ' Flow IAT Min': 0.5572710324588441,\n",
    " 'Fwd IAT Total': 0.5552154921669692,\n",
    " ' Fwd IAT Std': 0.525457563232787,\n",
    " ' Fwd IAT Min': 0.557227927917605,\n",
    " 'Bwd IAT Total': 0.5274787185312164,\n",
    " ' Bwd IAT Std': 0.5199107052302893,\n",
    " 'Fwd PSH Flags': 0.5110209992354248,\n",
    " ' Fwd Header Length': 0.5649256821571141,\n",
    " ' Bwd Packets/s': 0.548567384472877,\n",
    " 'FIN Flag Count': 0.4996152994949028,\n",
    " ' PSH Flag Count': 0.5064995958124713,\n",
    " ' ACK Flag Count': 0.5097289292362083,\n",
    " ' URG Flag Count': 0.5069323779637565,\n",
    " 'Init_Win_bytes_forward': 0.5734484114927324,\n",
    " ' Init_Win_bytes_backward': 0.5742372376657341,\n",
    " ' act_data_pkt_fwd': 0.5250498204674048,\n",
    " ' min_seg_size_forward': 0.5428487384051487,\n",
    " 'Active Mean': 0.5085359523478155,\n",
    " ' Active Std': 0.5018885551873704,\n",
    " ' Idle Std': 0.5026271133955946,\n",
    " 'Source IP1': 0.5093481226733437,\n",
    " 'Source IP2': 0.5127355525526736,\n",
    " 'Source IP3': 0.5197810657086236,\n",
    " 'Source IP4': 0.6292940726601796,\n",
    " 'Destination IP1': 0.6000708569101265,\n",
    " 'Destination IP2': 0.6179593909811868,\n",
    " 'Destination IP3': 0.6542533934055511,\n",
    " 'Destination IP4': 0.6413952745660961}\n",
    "\n",
    "auc3={' Source Port': 0.6379991311189014,\n",
    " ' Destination Port': 0.5563665831240362,\n",
    " ' Flow Duration': 0.5529182319576855,\n",
    " ' Total Fwd Packets': 0.5345564020394712,\n",
    " ' Total Backward Packets': 0.5387853249046745,\n",
    " 'Total Length of Fwd Packets': 0.5813068547666688,\n",
    " ' Total Length of Bwd Packets': 0.5878820742615405,\n",
    " ' Fwd Packet Length Min': 0.5340162772250147,\n",
    " ' Fwd Packet Length Std': 0.5628073596857487,\n",
    " ' Bwd Packet Length Min': 0.5443412553308494,\n",
    " ' Bwd Packet Length Std': 0.5596898660930836,\n",
    " 'Flow Bytes/s': 0.5295650431784452,\n",
    " ' Flow Packets/s': 0.5470448477668078,\n",
    " ' Flow IAT Std': 0.5176486127553078,\n",
    " ' Flow IAT Min': 0.5521831300555938,\n",
    " 'Fwd IAT Total': 0.5376555620659789,\n",
    " ' Fwd IAT Std': 0.512648110710675,\n",
    " ' Fwd IAT Min': 0.5392868522482441,\n",
    " 'Bwd IAT Total': 0.5126170390994146,\n",
    " ' Bwd IAT Std': 0.5101814178361082,\n",
    " 'Fwd PSH Flags': 0.5156249122280595,\n",
    " ' Fwd Header Length': 0.5775761891744442,\n",
    " ' Bwd Packets/s': 0.5442219795089852,\n",
    " 'FIN Flag Count': 0.5018783188361402,\n",
    " ' PSH Flag Count': 0.5106739226613008,\n",
    " ' ACK Flag Count': 0.5116913166044152,\n",
    " ' URG Flag Count': 0.5036676099161546,\n",
    " 'Init_Win_bytes_forward': 0.5839914725418078,\n",
    " ' Init_Win_bytes_backward': 0.5876287945470929,\n",
    " ' act_data_pkt_fwd': 0.5315391349473729,\n",
    " ' min_seg_size_forward': 0.5618074944179611,\n",
    " 'Active Mean': 0.5017283625995507,\n",
    " ' Active Std': 0.5003691000455467,\n",
    " ' Idle Std': 0.5001430264872218,\n",
    " 'Source IP1': 0.5192414158227315,\n",
    " 'Source IP2': 0.5210207880736546,\n",
    " 'Source IP3': 0.526187117293753,\n",
    " 'Source IP4': 0.6431843405311595,\n",
    " 'Destination IP1': 0.6118328221676916,\n",
    " 'Destination IP2': 0.6287977678219656,\n",
    " 'Destination IP3': 0.650626178105102,\n",
    " 'Destination IP4': 0.6428527493983265}"
   ]
  },
  {
   "cell_type": "markdown",
   "id": "cb7df17c",
   "metadata": {},
   "source": [
    "Gdy policzymy sumę auc widzimy, że połowa zmiennych nie jest w stanie wykryć żadnej kategorii. \n",
    "Wykres przedstawia posortowane zmienne i ich średnie gini. "
   ]
  },
  {
   "cell_type": "code",
   "execution_count": null,
   "id": "2dbf8c2e",
   "metadata": {},
   "outputs": [],
   "source": [
    "f = [2*(a0+a1+a2+a3)/4 -1 for a0,a1,a2,a3 in zip(list(auc0.values()),list(auc1.values()),list(auc2.values()),list(auc3.values())) ]\n",
    "fcol = list(pd.DataFrame( f,list(auc1.keys())).sort_values(by = 0, ascending = False).index)\n",
    "auc = pd.DataFrame( f,list(auc1.keys())).sort_values(by = 0, ascending = False).reset_index()\n",
    "sns.barplot(data= auc[:20], y= 'index', x = 0)"
   ]
  },
  {
   "cell_type": "markdown",
   "id": "44319039",
   "metadata": {},
   "source": [
    "Jak widzimy jedynie 10 pierwszych zmiennych ma stosunkowo spore gini. Jednak już po 6 zmiennej wynik mocno spada."
   ]
  },
  {
   "cell_type": "code",
   "execution_count": null,
   "id": "3b55cf5b",
   "metadata": {},
   "outputs": [],
   "source": [
    "fcol = fcol[:6]+[' Destination Port','Source IP3','Source IP2','Source IP1']\n",
    "fcol"
   ]
  },
  {
   "cell_type": "markdown",
   "id": "0f5941e4",
   "metadata": {},
   "source": [
    "Wzięliśmy 6 najbardziej predykcjnych zmiennych. Jak widzimy wszystkie przekazują nam informacje nie na temat samych pakietów co ich drogi wewnątrz sieci. Dorzuciliśmy Destination Port i resztę Source IP bo wydaje się, że powinny uzupełniać informacje na temat ich drogi. Może te zmienne samodzielnie są mało predykcyjne, lecz oryginalnie gdy się je połączy z resztą niosą pełną informacje na temat drogi pakietów."
   ]
  },
  {
   "cell_type": "markdown",
   "id": "4d3b14e9",
   "metadata": {},
   "source": [
    "### Hiperparametryzacja"
   ]
  },
  {
   "cell_type": "code",
   "execution_count": null,
   "id": "85dec38b",
   "metadata": {},
   "outputs": [],
   "source": [
    "X_learn, X_check, Y_learn, Y_check = train_test_split(\n",
    "    X_train,\n",
    "    y_train,\n",
    "    test_size=0.2, random_state=7)\n",
    "\n",
    "X_learn, X_val, Y_learn, Y_val = train_test_split(\n",
    "    X_learn,\n",
    "    Y_learn,\n",
    "    test_size=0.2, random_state=7)\n"
   ]
  },
  {
   "cell_type": "markdown",
   "id": "25f6128d",
   "metadata": {},
   "source": [
    "Będziemy dobierać parametr po parametrze. Zaczniemy od max_depth. Gdy zacieśnimy obszar gdzie może być maximum odpalimy grid searcha."
   ]
  },
  {
   "cell_type": "code",
   "execution_count": null,
   "id": "ba2b1804",
   "metadata": {},
   "outputs": [],
   "source": [
    "for i in range(2,20):\n",
    "    model=XGBClassifier(random_state=1,\n",
    "                        booster='gbtree', \n",
    "                        max_depth=i\n",
    "                        )\n",
    "    model.fit(X_learn[fcol], Y_learn)\n",
    "    print(i,round(model.score(X_val[fcol],Y_val),3))"
   ]
  },
  {
   "cell_type": "markdown",
   "id": "3127db63",
   "metadata": {},
   "source": [
    "Różnice wewnątrz różnych wartości learning_rate i n_estimators są niewielkie, więc zrobimy wykres tylko w zależności od wysokości drzew."
   ]
  },
  {
   "cell_type": "code",
   "execution_count": null,
   "id": "25eefc0b",
   "metadata": {},
   "outputs": [],
   "source": [
    "# Wykres tree depth accuracy !!!!!!!!\n",
    "# Są stare dane bo wykres statyczny\n",
    "\n",
    "\n",
    "\n",
    "\n",
    "plt.rc('axes', axisbelow=True)\n",
    "plt.figure(figsize=(10,6)).clf()\n",
    "sns.pointplot(x = list(range(2,20)), y = [0.524,0.542,0.56,0.584,0.617,0.648,0.674,0.695,\n",
    "                                    0.708,0.724,0.736,0.739,0.746,0.746,0.749,0.749,0.75,0.75],color=\".1\",markers=\"s\")\n",
    "plt.ylabel('Accuracy', fontsize=16)\n",
    "plt.xlabel('Tree depth', fontsize=16)\n",
    "plt.title(\"How tree depth affect accuracy\", fontsize=26)\n",
    "plt.xticks(list(range(2,20,2)))\n",
    "plt.grid()"
   ]
  },
  {
   "cell_type": "markdown",
   "id": "ec10884a",
   "metadata": {},
   "source": [
    "Po 16 już nie ma większej różnicy,a czas obliczeń mocno wzrasta, więc wybierzemy obszar od 14 do 16. Teraz sprawdzimy n_estimators dla max_depth = 15 jako środek przedziału."
   ]
  },
  {
   "cell_type": "code",
   "execution_count": null,
   "id": "ac5b31cd",
   "metadata": {},
   "outputs": [],
   "source": [
    "for i in range(1, 7):\n",
    "    model=XGBClassifier(random_state=1,\n",
    "                        n_estimators = 50*i,\n",
    "                        booster='gbtree', \n",
    "                        max_depth=15,\n",
    "                        tree_method = 'gpu_hist'\n",
    "                        )\n",
    "    model.fit(X_learn[fcol], Y_learn)\n",
    "    print(50*i,round(model.score(X_val[fcol],Y_val),3))"
   ]
  },
  {
   "cell_type": "markdown",
   "id": "e30ee58b",
   "metadata": {},
   "source": [
    "Po 200 już nie dalej wyniki nie rosną. Zatem zatrzymamy się w przedziale od 100 do 200. Sprawdzimy jeszcze learning_rate przy 100 drzewach."
   ]
  },
  {
   "cell_type": "code",
   "execution_count": null,
   "id": "1a518e23",
   "metadata": {},
   "outputs": [],
   "source": [
    "for i in range(1, 10):\n",
    "    model=XGBClassifier(random_state=1,\n",
    "                        n_estimators = 100,\n",
    "                        learning_rate = i/10,\n",
    "                        booster='gbtree', \n",
    "                        max_depth=15,\n",
    "                        tree_method = 'gpu_hist'\n",
    "                        )\n",
    "    model.fit(X_learn[fcol], Y_learn)\n",
    "    print(i/10,round(model.score(X_val[fcol],Y_val),4))"
   ]
  },
  {
   "cell_type": "markdown",
   "id": "b45fae80",
   "metadata": {},
   "source": [
    "Tutaj wybierzemy przedział od 0.6 do 0.8."
   ]
  },
  {
   "cell_type": "markdown",
   "id": "f508d862",
   "metadata": {},
   "source": [
    "Odpalamy grid searcha na naszych przedziałach, żeby znaleźć najlepsze parametry. Trochę zmniejszyliśmy przedział n_estimators, żeby przyśpieszyć obliczenia."
   ]
  },
  {
   "cell_type": "code",
   "execution_count": null,
   "id": "932d9566",
   "metadata": {},
   "outputs": [],
   "source": [
    "opt = XGBClassifier(random_state=1,\n",
    "                        booster='gbtree', \n",
    "                        tree_method = 'gpu_hist'\n",
    "                        )\n",
    "max_depth = list(range(14,17))\n",
    "learning_rate = [i/100 for i in range(65, 76,2)]\n",
    "n_estimators = list(range(100,160,20))\n",
    "param_grid = dict(max_depth=max_depth,learning_rate = learning_rate,n_estimators = n_estimators)"
   ]
  },
  {
   "cell_type": "code",
   "execution_count": null,
   "id": "38994602",
   "metadata": {},
   "outputs": [],
   "source": [
    "#Skleimy z powrotem learna\n",
    "X_learn= pd.concat([X_learn,X_val])\n",
    "Y_learn = pd.concat([Y_learn,Y_val])"
   ]
  },
  {
   "cell_type": "code",
   "execution_count": null,
   "id": "360deae1",
   "metadata": {},
   "outputs": [],
   "source": [
    "#grid = GridSearchCV(estimator=opt, param_grid=param_grid, cv = 3, n_jobs=-1)\n",
    "#grid_result = grid.fit(X_learn[fcol],Y_learn)"
   ]
  },
  {
   "cell_type": "code",
   "execution_count": null,
   "id": "d839c0cb",
   "metadata": {},
   "outputs": [],
   "source": [
    "#print(\"Best: %f using %s\" % (grid_result.best_score_, grid_result.best_params_))"
   ]
  },
  {
   "cell_type": "markdown",
   "id": "86bfd423",
   "metadata": {},
   "source": [
    "Użyjemy parametrów wyliczonych przez grida i sprawdzimy czy dodatkowe kolumny o niskim auc poprawiają wyniki."
   ]
  },
  {
   "cell_type": "code",
   "execution_count": null,
   "id": "11b4e8ec",
   "metadata": {},
   "outputs": [],
   "source": [
    "model = XGBClassifier(random_state=1,\n",
    "                        learning_rate= 0.67,\n",
    "                        max_depth = 16,\n",
    "                        n_estimators = 120,\n",
    "                        booster='gbtree'\n",
    "                        )\n",
    "model.fit(X_learn[fcol[:6]],Y_learn) # tylko 6 najlepiej predykcyjnych kolumn\n",
    "model.score(X_check[fcol[:6]],Y_check)"
   ]
  },
  {
   "cell_type": "code",
   "execution_count": null,
   "id": "a530f9c3",
   "metadata": {},
   "outputs": [],
   "source": [
    "model = XGBClassifier(random_state=1,\n",
    "                        learning_rate= 0.67,\n",
    "                        max_depth = 16,\n",
    "                        n_estimators = 120,\n",
    "                        booster='gbtree'\n",
    "                        )\n",
    "model.fit(X_learn[fcol],Y_learn) # wszystkie wybrane do modelu\n",
    "model.score(X_check[fcol],Y_check)"
   ]
  },
  {
   "cell_type": "markdown",
   "id": "3a72389b",
   "metadata": {},
   "source": [
    "Jak widać dodatkowe kolumny z niskim auc zwiększają accuracy. Wcześniejsze testy pokazały, że kolejne kolumny wybierane względem auc pogarszały wyniki. Zdajemy sobie sprawę, że hiperparametry były dostosowywane pod większą liczbę kolumn, ale pomimo to różnica jest spora między wyborem kolumn a między różnymi parametrami."
   ]
  },
  {
   "cell_type": "markdown",
   "id": "d9572351",
   "metadata": {},
   "source": [
    "### Wstępne wyniki"
   ]
  },
  {
   "cell_type": "code",
   "execution_count": null,
   "id": "4fd50a7f",
   "metadata": {},
   "outputs": [],
   "source": [
    "results=cross_val_score(model, X_learn[fcol], Y_learn)\n",
    "print(np.mean(results), np.std(results))"
   ]
  },
  {
   "cell_type": "code",
   "execution_count": null,
   "id": "4c373040",
   "metadata": {},
   "outputs": [],
   "source": [
    "model.score(X_check[fcol],Y_check)"
   ]
  },
  {
   "cell_type": "code",
   "execution_count": null,
   "id": "a4a819b3",
   "metadata": {},
   "outputs": [],
   "source": [
    "y_predicted = model.predict(X_check[fcol])\n",
    "sns.heatmap(confusion_matrix(Y_check,y_predicted),annot=True,cmap='Blues', fmt='g')"
   ]
  },
  {
   "cell_type": "code",
   "execution_count": null,
   "id": "146d3879",
   "metadata": {},
   "outputs": [],
   "source": [
    "plot_importance(model)\n",
    "plt.show()"
   ]
  },
  {
   "cell_type": "markdown",
   "id": "981e1e08",
   "metadata": {},
   "source": [
    "### Końcowe wyniki (tu jeszcze czekamy na walidacje, tak poglądowo sprawdziliśmy)"
   ]
  },
  {
   "cell_type": "code",
   "execution_count": null,
   "id": "b2edc361",
   "metadata": {},
   "outputs": [],
   "source": [
    "model = XGBClassifier(random_state=1,\n",
    "                        learning_rate= 0.67,\n",
    "                        max_depth = 16,\n",
    "                        n_estimators = 120,\n",
    "                        booster='gbtree'\n",
    "                        )\n",
    "model.fit(X_train[fcol],y_train)\n",
    "model.score(X_test[fcol],y_test)"
   ]
  },
  {
   "cell_type": "code",
   "execution_count": null,
   "id": "6551c491",
   "metadata": {},
   "outputs": [],
   "source": [
    "model.score(X_train[fcol],y_train)"
   ]
  },
  {
   "cell_type": "code",
   "execution_count": null,
   "id": "6b02bcf8",
   "metadata": {},
   "outputs": [],
   "source": [
    "results=cross_val_score(model, X_train[fcol], y_train)\n",
    "print(np.mean(results), np.std(results))"
   ]
  },
  {
   "cell_type": "code",
   "execution_count": null,
   "id": "67527dd9",
   "metadata": {},
   "outputs": [],
   "source": [
    "y_predicted = model.predict(X_test[fcol])\n",
    "sns.heatmap(confusion_matrix(y_test,y_predicted),annot=True,cmap='Blues', fmt='g')"
   ]
  },
  {
   "cell_type": "code",
   "execution_count": null,
   "id": "b46d192c",
   "metadata": {},
   "outputs": [],
   "source": [
    "from sklearn.metrics import roc_auc_score\n",
    "roc_auc_score(y_test, model.predict_proba(X_test[fcol]), multi_class='ovr')"
   ]
  },
  {
   "cell_type": "code",
   "execution_count": null,
   "id": "81632092",
   "metadata": {},
   "outputs": [],
   "source": [
    "# Wykres confusion_matrix !!!!!!!!\n",
    "\n",
    "\n",
    "\n",
    "axis_labels = ['Benign', 'Scareware', 'Adware', 'SMS Malware']\n",
    "conf = confusion_matrix(y_test,y_predicted)\n",
    "\n",
    "#labels\n",
    "plt.figure(figsize=(10,7)).clf()\n",
    "labels = np.zeros((len(conf), len(conf)), dtype=object)\n",
    "for i,row in enumerate(conf):\n",
    "    for j,cell in enumerate(row):\n",
    "        labels[i][j] = f\"{cell}\\n{round(cell*100/sum(conf[i]),1)}%\" \n",
    "\n",
    "sns.heatmap(conf,annot=labels,\n",
    "            cmap='Blues', fmt = '',  \n",
    "            yticklabels=axis_labels,\n",
    "            xticklabels=axis_labels)\n",
    "plt.ylabel('True label', fontsize=16)\n",
    "plt.yticks(rotation=0)\n",
    "plt.xlabel('Predicted label', fontsize=16)\n",
    "plt.title(\"Confusion matrix\", fontsize=26)\n",
    "plt.legend('', frameon=False)"
   ]
  },
  {
   "cell_type": "code",
   "execution_count": null,
   "id": "1361c791",
   "metadata": {},
   "outputs": [],
   "source": [
    "# Wykres roc_curve !!!!!!!!\n",
    "\n",
    "\n",
    "\n",
    "plt.figure(figsize=(10,10)).clf()\n",
    "\n",
    "# plt.subplot(1, 2, 1)\n",
    "axis_labels = ['Benign', 'Scareware', 'Adware', 'SMS Malware']\n",
    "y = pd.get_dummies(y_test)\n",
    "y_proba = model.predict_proba(X_test[fcol])\n",
    "\n",
    "for i in range(4):\n",
    "    auc = roc_auc_score(y.iloc[:,i],y_proba[:, i])\n",
    "    fpr, tpr, _ = roc_curve(y.iloc[:,i],y_proba[:, i])\n",
    "    plt.plot(fpr,tpr,label=f\"AUC for {axis_labels[i]}={'{:0.3f}'.format(auc)}\", linewidth = 3)\n",
    "\n",
    "\n",
    "plt.plot([0, 1], [0, 1],color = 'black', linestyle='--')\n",
    "plt.legend(loc=4,fontsize='x-large')\n",
    "plt.title(\"AUC ROC curve for each class vs rest\", fontsize=26)\n",
    "plt.ylabel(\"True Positive rate\", fontsize=16)\n",
    "plt.xlabel(\"False Positive rate\", fontsize=16)\n",
    "plt.grid()\n",
    "\n",
    "\n",
    "# plt.subplot(1, 2, 2)\n",
    "\n",
    "# auc =roc_auc_score(y_test, model.predict_proba(X_test[fcol]), multi_class='ovr')\n",
    "# # fpr, tpr, _ = roc_curve(y.iloc,y_proba)\n",
    "# RocCurveDisplay.from_predictions(y_test, model.predict_proba(X_test[fcol]))\n",
    "# # plt.plot(fpr,tpr,label=f\"AUC ={'{:0.3f}'.format(auc)}\", linewidth = 3)\n",
    "    \n",
    "    \n",
    "    \n",
    "# plt.plot([0, 1], [0, 1],color = 'black', linestyle='--')\n",
    "# plt.title(\"AUC ROC curve for model\", fontsize=26)\n",
    "# plt.ylabel(\"True Positive rate\", fontsize=16)\n",
    "# plt.xlabel(\"False Positive rate\", fontsize=16)\n",
    "# plt.grid()\n",
    "\n",
    "# plt.show"
   ]
  },
  {
   "cell_type": "code",
   "execution_count": null,
   "id": "4284321a",
   "metadata": {},
   "outputs": [],
   "source": [
    "# Wykres Feature importance !!!!!!!!\n",
    "\n",
    "\n",
    "plt.rcParams['figure.figsize'] = [10, 8]\n",
    "plot_importance(model,show_values=False, color=\"gray\", height=0.6,edgecolor='black')\n",
    "\n",
    "plt.title(\"Feature importance\", fontsize=26)\n",
    "plt.ylabel(\"Feature name\", fontsize=16)\n",
    "plt.xlabel(\"F score\", fontsize=16)\n",
    "plt.xticks([0,20_000,40_000,60_000,80_000,100_000,120_000], [\"0\",\"20K\",\"40K\",\"60K\",\"80K\",\"100K\",\"120K\"])\n",
    "plt.show()"
   ]
  },
  {
   "cell_type": "code",
   "execution_count": null,
   "id": "216c80fd",
   "metadata": {},
   "outputs": [],
   "source": []
  },
  {
   "cell_type": "code",
   "execution_count": null,
   "id": "5d05421c",
   "metadata": {},
   "outputs": [],
   "source": []
  }
 ],
 "metadata": {
  "kernelspec": {
   "display_name": "Python 3 (ipykernel)",
   "language": "python",
   "name": "python3"
  },
  "language_info": {
   "codemirror_mode": {
    "name": "ipython",
    "version": 3
   },
   "file_extension": ".py",
   "mimetype": "text/x-python",
   "name": "python",
   "nbconvert_exporter": "python",
   "pygments_lexer": "ipython3",
   "version": "3.9.7"
  }
 },
 "nbformat": 4,
 "nbformat_minor": 5
}
