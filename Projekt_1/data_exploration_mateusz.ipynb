{
 "cells": [
  {
   "cell_type": "code",
   "execution_count": 45,
   "id": "cb139c14",
   "metadata": {},
   "outputs": [],
   "source": [
    "# Imports\n",
    "import pandas as pd\n",
    "import matplotlib.pyplot as plt"
   ]
  },
  {
   "cell_type": "code",
   "execution_count": 46,
   "id": "002f7d15",
   "metadata": {},
   "outputs": [],
   "source": [
    "plt.rcParams['figure.figsize'] = [10, 5]"
   ]
  },
  {
   "cell_type": "code",
   "execution_count": 2,
   "id": "abc648c0",
   "metadata": {},
   "outputs": [
    {
     "name": "stdout",
     "output_type": "stream",
     "text": [
      "\u001b[34mdata\u001b[m\u001b[m/                           data_exploration_mateusz.ipynb\r\n"
     ]
    }
   ],
   "source": [
    "%ls"
   ]
  },
  {
   "cell_type": "code",
   "execution_count": 3,
   "id": "414bf9ca",
   "metadata": {},
   "outputs": [
    {
     "name": "stdout",
     "output_type": "stream",
     "text": [
      "Android_Malware.csv   tu_jest_csv_z_danymi\r\n"
     ]
    }
   ],
   "source": [
    "%ls data"
   ]
  },
  {
   "cell_type": "code",
   "execution_count": 24,
   "id": "04a7e065",
   "metadata": {
    "scrolled": true
   },
   "outputs": [
    {
     "name": "stderr",
     "output_type": "stream",
     "text": [
      "/Users/mat/opt/anaconda3/lib/python3.9/site-packages/IPython/core/interactiveshell.py:3444: DtypeWarning: Columns (56,58,63) have mixed types.Specify dtype option on import or set low_memory=False.\n",
      "  exec(code_obj, self.user_global_ns, self.user_ns)\n"
     ]
    }
   ],
   "source": [
    "# Read the CSV file into a data frame\n",
    "df = pd.read_csv('data/Android_Malware.csv')"
   ]
  },
  {
   "cell_type": "code",
   "execution_count": 25,
   "id": "15fab57b",
   "metadata": {},
   "outputs": [
    {
     "data": {
      "text/html": [
       "<div>\n",
       "<style scoped>\n",
       "    .dataframe tbody tr th:only-of-type {\n",
       "        vertical-align: middle;\n",
       "    }\n",
       "\n",
       "    .dataframe tbody tr th {\n",
       "        vertical-align: top;\n",
       "    }\n",
       "\n",
       "    .dataframe thead th {\n",
       "        text-align: right;\n",
       "    }\n",
       "</style>\n",
       "<table border=\"1\" class=\"dataframe\">\n",
       "  <thead>\n",
       "    <tr style=\"text-align: right;\">\n",
       "      <th></th>\n",
       "      <th>Unnamed: 0</th>\n",
       "      <th>Flow ID</th>\n",
       "      <th>Source IP</th>\n",
       "      <th>Source Port</th>\n",
       "      <th>Destination IP</th>\n",
       "      <th>Destination Port</th>\n",
       "      <th>Protocol</th>\n",
       "      <th>Timestamp</th>\n",
       "      <th>Flow Duration</th>\n",
       "      <th>Total Fwd Packets</th>\n",
       "      <th>...</th>\n",
       "      <th>min_seg_size_forward</th>\n",
       "      <th>Active Mean</th>\n",
       "      <th>Active Std</th>\n",
       "      <th>Active Max</th>\n",
       "      <th>Active Min</th>\n",
       "      <th>Idle Mean</th>\n",
       "      <th>Idle Std</th>\n",
       "      <th>Idle Max</th>\n",
       "      <th>Idle Min</th>\n",
       "      <th>Label</th>\n",
       "    </tr>\n",
       "  </thead>\n",
       "  <tbody>\n",
       "    <tr>\n",
       "      <th>0</th>\n",
       "      <td>0</td>\n",
       "      <td>172.217.6.202-10.42.0.211-443-50004-6</td>\n",
       "      <td>10.42.0.211</td>\n",
       "      <td>50004</td>\n",
       "      <td>172.217.6.202</td>\n",
       "      <td>443.0</td>\n",
       "      <td>6.0</td>\n",
       "      <td>13/06/2017 11:52:39</td>\n",
       "      <td>37027</td>\n",
       "      <td>1</td>\n",
       "      <td>...</td>\n",
       "      <td>32.0</td>\n",
       "      <td>0.0</td>\n",
       "      <td>0.0</td>\n",
       "      <td>0.0</td>\n",
       "      <td>0.0</td>\n",
       "      <td>0.0</td>\n",
       "      <td>0.0</td>\n",
       "      <td>0.0</td>\n",
       "      <td>0.0</td>\n",
       "      <td>Android_Adware</td>\n",
       "    </tr>\n",
       "    <tr>\n",
       "      <th>1</th>\n",
       "      <td>1</td>\n",
       "      <td>172.217.6.202-10.42.0.211-443-35455-6</td>\n",
       "      <td>10.42.0.211</td>\n",
       "      <td>35455</td>\n",
       "      <td>172.217.6.202</td>\n",
       "      <td>443.0</td>\n",
       "      <td>6.0</td>\n",
       "      <td>13/06/2017 11:52:39</td>\n",
       "      <td>36653</td>\n",
       "      <td>1</td>\n",
       "      <td>...</td>\n",
       "      <td>32.0</td>\n",
       "      <td>0.0</td>\n",
       "      <td>0.0</td>\n",
       "      <td>0.0</td>\n",
       "      <td>0.0</td>\n",
       "      <td>0.0</td>\n",
       "      <td>0.0</td>\n",
       "      <td>0.0</td>\n",
       "      <td>0.0</td>\n",
       "      <td>Android_Adware</td>\n",
       "    </tr>\n",
       "    <tr>\n",
       "      <th>2</th>\n",
       "      <td>2</td>\n",
       "      <td>131.253.61.68-10.42.0.211-443-51775-6</td>\n",
       "      <td>10.42.0.211</td>\n",
       "      <td>51775</td>\n",
       "      <td>131.253.61.68</td>\n",
       "      <td>443.0</td>\n",
       "      <td>6.0</td>\n",
       "      <td>13/06/2017 11:52:42</td>\n",
       "      <td>534099</td>\n",
       "      <td>8</td>\n",
       "      <td>...</td>\n",
       "      <td>20.0</td>\n",
       "      <td>0.0</td>\n",
       "      <td>0.0</td>\n",
       "      <td>0.0</td>\n",
       "      <td>0.0</td>\n",
       "      <td>0.0</td>\n",
       "      <td>0.0</td>\n",
       "      <td>0.0</td>\n",
       "      <td>0.0</td>\n",
       "      <td>Android_Adware</td>\n",
       "    </tr>\n",
       "    <tr>\n",
       "      <th>3</th>\n",
       "      <td>3</td>\n",
       "      <td>131.253.61.68-10.42.0.211-443-51775-6</td>\n",
       "      <td>10.42.0.211</td>\n",
       "      <td>51775</td>\n",
       "      <td>131.253.61.68</td>\n",
       "      <td>443.0</td>\n",
       "      <td>6.0</td>\n",
       "      <td>13/06/2017 11:52:43</td>\n",
       "      <td>9309</td>\n",
       "      <td>3</td>\n",
       "      <td>...</td>\n",
       "      <td>20.0</td>\n",
       "      <td>0.0</td>\n",
       "      <td>0.0</td>\n",
       "      <td>0.0</td>\n",
       "      <td>0.0</td>\n",
       "      <td>0.0</td>\n",
       "      <td>0.0</td>\n",
       "      <td>0.0</td>\n",
       "      <td>0.0</td>\n",
       "      <td>Android_Adware</td>\n",
       "    </tr>\n",
       "    <tr>\n",
       "      <th>4</th>\n",
       "      <td>4</td>\n",
       "      <td>131.253.61.68-10.42.0.211-443-51776-6</td>\n",
       "      <td>10.42.0.211</td>\n",
       "      <td>51776</td>\n",
       "      <td>131.253.61.68</td>\n",
       "      <td>443.0</td>\n",
       "      <td>6.0</td>\n",
       "      <td>13/06/2017 11:52:42</td>\n",
       "      <td>19890496</td>\n",
       "      <td>8</td>\n",
       "      <td>...</td>\n",
       "      <td>20.0</td>\n",
       "      <td>0.0</td>\n",
       "      <td>0.0</td>\n",
       "      <td>0.0</td>\n",
       "      <td>0.0</td>\n",
       "      <td>0.0</td>\n",
       "      <td>0.0</td>\n",
       "      <td>0.0</td>\n",
       "      <td>0.0</td>\n",
       "      <td>Android_Adware</td>\n",
       "    </tr>\n",
       "    <tr>\n",
       "      <th>...</th>\n",
       "      <td>...</td>\n",
       "      <td>...</td>\n",
       "      <td>...</td>\n",
       "      <td>...</td>\n",
       "      <td>...</td>\n",
       "      <td>...</td>\n",
       "      <td>...</td>\n",
       "      <td>...</td>\n",
       "      <td>...</td>\n",
       "      <td>...</td>\n",
       "      <td>...</td>\n",
       "      <td>...</td>\n",
       "      <td>...</td>\n",
       "      <td>...</td>\n",
       "      <td>...</td>\n",
       "      <td>...</td>\n",
       "      <td>...</td>\n",
       "      <td>...</td>\n",
       "      <td>...</td>\n",
       "      <td>...</td>\n",
       "      <td>...</td>\n",
       "    </tr>\n",
       "    <tr>\n",
       "      <th>355625</th>\n",
       "      <td>405</td>\n",
       "      <td>172.217.7.14-10.42.0.211-80-38405-6</td>\n",
       "      <td>172.217.7.14</td>\n",
       "      <td>80</td>\n",
       "      <td>10.42.0.211</td>\n",
       "      <td>38405.0</td>\n",
       "      <td>6.0</td>\n",
       "      <td>17/06/2017 01:29:11</td>\n",
       "      <td>126711</td>\n",
       "      <td>1</td>\n",
       "      <td>...</td>\n",
       "      <td>32.0</td>\n",
       "      <td>0.0</td>\n",
       "      <td>0.0</td>\n",
       "      <td>0.0</td>\n",
       "      <td>0.0</td>\n",
       "      <td>0.0</td>\n",
       "      <td>0.0</td>\n",
       "      <td>0.0</td>\n",
       "      <td>0.0</td>\n",
       "      <td>Benign</td>\n",
       "    </tr>\n",
       "    <tr>\n",
       "      <th>355626</th>\n",
       "      <td>406</td>\n",
       "      <td>10.42.0.211-10.42.0.1-7632-53-17</td>\n",
       "      <td>10.42.0.211</td>\n",
       "      <td>7632</td>\n",
       "      <td>10.42.0.1</td>\n",
       "      <td>53.0</td>\n",
       "      <td>17.0</td>\n",
       "      <td>17/06/2017 01:30:33</td>\n",
       "      <td>48012</td>\n",
       "      <td>1</td>\n",
       "      <td>...</td>\n",
       "      <td>32.0</td>\n",
       "      <td>0.0</td>\n",
       "      <td>0.0</td>\n",
       "      <td>0.0</td>\n",
       "      <td>0.0</td>\n",
       "      <td>0.0</td>\n",
       "      <td>0.0</td>\n",
       "      <td>0.0</td>\n",
       "      <td>0.0</td>\n",
       "      <td>Benign</td>\n",
       "    </tr>\n",
       "    <tr>\n",
       "      <th>355627</th>\n",
       "      <td>407</td>\n",
       "      <td>10.42.0.211-104.192.110.245-45970-443-6</td>\n",
       "      <td>10.42.0.211</td>\n",
       "      <td>45970</td>\n",
       "      <td>104.192.110.245</td>\n",
       "      <td>443.0</td>\n",
       "      <td>6.0</td>\n",
       "      <td>17/06/2017 01:29:45</td>\n",
       "      <td>20028018</td>\n",
       "      <td>11</td>\n",
       "      <td>...</td>\n",
       "      <td>20.0</td>\n",
       "      <td>367528.0</td>\n",
       "      <td>0.0</td>\n",
       "      <td>367528.0</td>\n",
       "      <td>367528.0</td>\n",
       "      <td>19660490.0</td>\n",
       "      <td>0.0</td>\n",
       "      <td>19660490.0</td>\n",
       "      <td>19660490.0</td>\n",
       "      <td>Benign</td>\n",
       "    </tr>\n",
       "    <tr>\n",
       "      <th>355628</th>\n",
       "      <td>408</td>\n",
       "      <td>10.42.0.211-10.42.0.1-51982-53-17</td>\n",
       "      <td>10.42.0.211</td>\n",
       "      <td>51982</td>\n",
       "      <td>10.42.0.1</td>\n",
       "      <td>53.0</td>\n",
       "      <td>17.0</td>\n",
       "      <td>17/06/2017 01:29:45</td>\n",
       "      <td>347926</td>\n",
       "      <td>1</td>\n",
       "      <td>...</td>\n",
       "      <td>20.0</td>\n",
       "      <td>0.0</td>\n",
       "      <td>0.0</td>\n",
       "      <td>0.0</td>\n",
       "      <td>0.0</td>\n",
       "      <td>0.0</td>\n",
       "      <td>0.0</td>\n",
       "      <td>0.0</td>\n",
       "      <td>0.0</td>\n",
       "      <td>Benign</td>\n",
       "    </tr>\n",
       "    <tr>\n",
       "      <th>355629</th>\n",
       "      <td>409</td>\n",
       "      <td>10.42.0.211-10.42.0.1-9320-53-17</td>\n",
       "      <td>10.42.0.211</td>\n",
       "      <td>9320</td>\n",
       "      <td>10.42.0.1</td>\n",
       "      <td>53.0</td>\n",
       "      <td>17.0</td>\n",
       "      <td>17/06/2017 01:30:33</td>\n",
       "      <td>125473</td>\n",
       "      <td>1</td>\n",
       "      <td>...</td>\n",
       "      <td>32.0</td>\n",
       "      <td>0.0</td>\n",
       "      <td>0.0</td>\n",
       "      <td>0.0</td>\n",
       "      <td>0.0</td>\n",
       "      <td>0.0</td>\n",
       "      <td>0.0</td>\n",
       "      <td>0.0</td>\n",
       "      <td>0.0</td>\n",
       "      <td>Benign</td>\n",
       "    </tr>\n",
       "  </tbody>\n",
       "</table>\n",
       "<p>355630 rows × 86 columns</p>\n",
       "</div>"
      ],
      "text/plain": [
       "        Unnamed: 0                                  Flow ID     Source IP  \\\n",
       "0                0    172.217.6.202-10.42.0.211-443-50004-6   10.42.0.211   \n",
       "1                1    172.217.6.202-10.42.0.211-443-35455-6   10.42.0.211   \n",
       "2                2    131.253.61.68-10.42.0.211-443-51775-6   10.42.0.211   \n",
       "3                3    131.253.61.68-10.42.0.211-443-51775-6   10.42.0.211   \n",
       "4                4    131.253.61.68-10.42.0.211-443-51776-6   10.42.0.211   \n",
       "...            ...                                      ...           ...   \n",
       "355625         405      172.217.7.14-10.42.0.211-80-38405-6  172.217.7.14   \n",
       "355626         406         10.42.0.211-10.42.0.1-7632-53-17   10.42.0.211   \n",
       "355627         407  10.42.0.211-104.192.110.245-45970-443-6   10.42.0.211   \n",
       "355628         408        10.42.0.211-10.42.0.1-51982-53-17   10.42.0.211   \n",
       "355629         409         10.42.0.211-10.42.0.1-9320-53-17   10.42.0.211   \n",
       "\n",
       "         Source Port   Destination IP   Destination Port   Protocol  \\\n",
       "0              50004    172.217.6.202              443.0        6.0   \n",
       "1              35455    172.217.6.202              443.0        6.0   \n",
       "2              51775    131.253.61.68              443.0        6.0   \n",
       "3              51775    131.253.61.68              443.0        6.0   \n",
       "4              51776    131.253.61.68              443.0        6.0   \n",
       "...              ...              ...                ...        ...   \n",
       "355625            80      10.42.0.211            38405.0        6.0   \n",
       "355626          7632        10.42.0.1               53.0       17.0   \n",
       "355627         45970  104.192.110.245              443.0        6.0   \n",
       "355628         51982        10.42.0.1               53.0       17.0   \n",
       "355629          9320        10.42.0.1               53.0       17.0   \n",
       "\n",
       "                  Timestamp   Flow Duration   Total Fwd Packets  ...  \\\n",
       "0       13/06/2017 11:52:39           37027                   1  ...   \n",
       "1       13/06/2017 11:52:39           36653                   1  ...   \n",
       "2       13/06/2017 11:52:42          534099                   8  ...   \n",
       "3       13/06/2017 11:52:43            9309                   3  ...   \n",
       "4       13/06/2017 11:52:42        19890496                   8  ...   \n",
       "...                     ...             ...                 ...  ...   \n",
       "355625  17/06/2017 01:29:11          126711                   1  ...   \n",
       "355626  17/06/2017 01:30:33           48012                   1  ...   \n",
       "355627  17/06/2017 01:29:45        20028018                  11  ...   \n",
       "355628  17/06/2017 01:29:45          347926                   1  ...   \n",
       "355629  17/06/2017 01:30:33          125473                   1  ...   \n",
       "\n",
       "         min_seg_size_forward  Active Mean   Active Std   Active Max  \\\n",
       "0                        32.0          0.0          0.0          0.0   \n",
       "1                        32.0          0.0          0.0          0.0   \n",
       "2                        20.0          0.0          0.0          0.0   \n",
       "3                        20.0          0.0          0.0          0.0   \n",
       "4                        20.0          0.0          0.0          0.0   \n",
       "...                       ...          ...          ...          ...   \n",
       "355625                   32.0          0.0          0.0          0.0   \n",
       "355626                   32.0          0.0          0.0          0.0   \n",
       "355627                   20.0     367528.0          0.0     367528.0   \n",
       "355628                   20.0          0.0          0.0          0.0   \n",
       "355629                   32.0          0.0          0.0          0.0   \n",
       "\n",
       "         Active Min   Idle Mean   Idle Std    Idle Max    Idle Min  \\\n",
       "0               0.0         0.0        0.0         0.0         0.0   \n",
       "1               0.0         0.0        0.0         0.0         0.0   \n",
       "2               0.0         0.0        0.0         0.0         0.0   \n",
       "3               0.0         0.0        0.0         0.0         0.0   \n",
       "4               0.0         0.0        0.0         0.0         0.0   \n",
       "...             ...         ...        ...         ...         ...   \n",
       "355625          0.0         0.0        0.0         0.0         0.0   \n",
       "355626          0.0         0.0        0.0         0.0         0.0   \n",
       "355627     367528.0  19660490.0        0.0  19660490.0  19660490.0   \n",
       "355628          0.0         0.0        0.0         0.0         0.0   \n",
       "355629          0.0         0.0        0.0         0.0         0.0   \n",
       "\n",
       "                 Label  \n",
       "0       Android_Adware  \n",
       "1       Android_Adware  \n",
       "2       Android_Adware  \n",
       "3       Android_Adware  \n",
       "4       Android_Adware  \n",
       "...                ...  \n",
       "355625          Benign  \n",
       "355626          Benign  \n",
       "355627          Benign  \n",
       "355628          Benign  \n",
       "355629          Benign  \n",
       "\n",
       "[355630 rows x 86 columns]"
      ]
     },
     "execution_count": 25,
     "metadata": {},
     "output_type": "execute_result"
    }
   ],
   "source": [
    "df"
   ]
  },
  {
   "cell_type": "code",
   "execution_count": 26,
   "id": "4e80ee8c",
   "metadata": {},
   "outputs": [
    {
     "name": "stdout",
     "output_type": "stream",
     "text": [
      "<class 'pandas.core.frame.DataFrame'>\n",
      "RangeIndex: 355630 entries, 0 to 355629\n",
      "Data columns (total 86 columns):\n",
      " #   Column                        Non-Null Count   Dtype  \n",
      "---  ------                        --------------   -----  \n",
      " 0   Unnamed: 0                    355630 non-null  int64  \n",
      " 1   Flow ID                       355629 non-null  object \n",
      " 2    Source IP                    355630 non-null  object \n",
      " 3    Source Port                  355630 non-null  int64  \n",
      " 4    Destination IP               355630 non-null  object \n",
      " 5    Destination Port             355630 non-null  float64\n",
      " 6    Protocol                     355630 non-null  float64\n",
      " 7    Timestamp                    355630 non-null  object \n",
      " 8    Flow Duration                355630 non-null  int64  \n",
      " 9    Total Fwd Packets            355630 non-null  int64  \n",
      " 10   Total Backward Packets       355630 non-null  int64  \n",
      " 11  Total Length of Fwd Packets   355630 non-null  float64\n",
      " 12   Total Length of Bwd Packets  355630 non-null  float64\n",
      " 13   Fwd Packet Length Max        355630 non-null  float64\n",
      " 14   Fwd Packet Length Min        355630 non-null  float64\n",
      " 15   Fwd Packet Length Mean       355630 non-null  float64\n",
      " 16   Fwd Packet Length Std        355630 non-null  float64\n",
      " 17  Bwd Packet Length Max         355630 non-null  float64\n",
      " 18   Bwd Packet Length Min        355630 non-null  float64\n",
      " 19   Bwd Packet Length Mean       355630 non-null  float64\n",
      " 20   Bwd Packet Length Std        355630 non-null  float64\n",
      " 21  Flow Bytes/s                  355630 non-null  float64\n",
      " 22   Flow Packets/s               355630 non-null  float64\n",
      " 23   Flow IAT Mean                355630 non-null  float64\n",
      " 24   Flow IAT Std                 355630 non-null  float64\n",
      " 25   Flow IAT Max                 355630 non-null  float64\n",
      " 26   Flow IAT Min                 355630 non-null  float64\n",
      " 27  Fwd IAT Total                 355630 non-null  float64\n",
      " 28   Fwd IAT Mean                 355630 non-null  float64\n",
      " 29   Fwd IAT Std                  355630 non-null  float64\n",
      " 30   Fwd IAT Max                  355630 non-null  float64\n",
      " 31   Fwd IAT Min                  355630 non-null  float64\n",
      " 32  Bwd IAT Total                 355630 non-null  float64\n",
      " 33   Bwd IAT Mean                 355630 non-null  float64\n",
      " 34   Bwd IAT Std                  355630 non-null  float64\n",
      " 35   Bwd IAT Max                  355630 non-null  float64\n",
      " 36   Bwd IAT Min                  355630 non-null  float64\n",
      " 37  Fwd PSH Flags                 355630 non-null  float64\n",
      " 38   Bwd PSH Flags                355630 non-null  float64\n",
      " 39   Fwd URG Flags                355630 non-null  int64  \n",
      " 40   Bwd URG Flags                355630 non-null  int64  \n",
      " 41   Fwd Header Length            355630 non-null  int64  \n",
      " 42   Bwd Header Length            355630 non-null  int64  \n",
      " 43  Fwd Packets/s                 355630 non-null  float64\n",
      " 44   Bwd Packets/s                355629 non-null  float64\n",
      " 45   Min Packet Length            355629 non-null  float64\n",
      " 46   Max Packet Length            355629 non-null  float64\n",
      " 47   Packet Length Mean           355629 non-null  float64\n",
      " 48   Packet Length Std            355629 non-null  float64\n",
      " 49   Packet Length Variance       355629 non-null  float64\n",
      " 50  FIN Flag Count                355629 non-null  float64\n",
      " 51   SYN Flag Count               355629 non-null  float64\n",
      " 52   RST Flag Count               355629 non-null  float64\n",
      " 53   PSH Flag Count               355629 non-null  float64\n",
      " 54   ACK Flag Count               355629 non-null  float64\n",
      " 55   URG Flag Count               355629 non-null  float64\n",
      " 56   CWE Flag Count               355629 non-null  object \n",
      " 57   ECE Flag Count               355628 non-null  float64\n",
      " 58   Down/Up Ratio                355628 non-null  object \n",
      " 59   Average Packet Size          355627 non-null  float64\n",
      " 60   Avg Fwd Segment Size         355627 non-null  float64\n",
      " 61   Avg Bwd Segment Size         355627 non-null  float64\n",
      " 62   Fwd Header Length.1          355627 non-null  float64\n",
      " 63  Fwd Avg Bytes/Bulk            355627 non-null  object \n",
      " 64   Fwd Avg Packets/Bulk         355626 non-null  float64\n",
      " 65   Fwd Avg Bulk Rate            355626 non-null  float64\n",
      " 66   Bwd Avg Bytes/Bulk           355626 non-null  float64\n",
      " 67   Bwd Avg Packets/Bulk         355626 non-null  float64\n",
      " 68  Bwd Avg Bulk Rate             355626 non-null  float64\n",
      " 69  Subflow Fwd Packets           355626 non-null  float64\n",
      " 70   Subflow Fwd Bytes            355626 non-null  float64\n",
      " 71   Subflow Bwd Packets          355626 non-null  float64\n",
      " 72   Subflow Bwd Bytes            355626 non-null  float64\n",
      " 73  Init_Win_bytes_forward        355626 non-null  float64\n",
      " 74   Init_Win_bytes_backward      355626 non-null  float64\n",
      " 75   act_data_pkt_fwd             355626 non-null  float64\n",
      " 76   min_seg_size_forward         355626 non-null  float64\n",
      " 77  Active Mean                   355626 non-null  float64\n",
      " 78   Active Std                   355626 non-null  float64\n",
      " 79   Active Max                   355626 non-null  float64\n",
      " 80   Active Min                   355626 non-null  float64\n",
      " 81  Idle Mean                     355626 non-null  float64\n",
      " 82   Idle Std                     355626 non-null  float64\n",
      " 83   Idle Max                     355626 non-null  float64\n",
      " 84   Idle Min                     355626 non-null  float64\n",
      " 85  Label                         355630 non-null  object \n",
      "dtypes: float64(69), int64(9), object(8)\n",
      "memory usage: 233.3+ MB\n"
     ]
    }
   ],
   "source": [
    "df.info()"
   ]
  },
  {
   "cell_type": "code",
   "execution_count": 32,
   "id": "93f0c1af",
   "metadata": {},
   "outputs": [
    {
     "name": "stdout",
     "output_type": "stream",
     "text": [
      "Unnamed: 0                       14158\n",
      "Flow ID                         176956\n",
      " Source IP                        2536\n",
      " Source Port                     51343\n",
      " Destination IP                   4746\n",
      " Destination Port                19409\n",
      " Protocol                            5\n",
      " Timestamp                       72218\n",
      " Flow Duration                  266027\n",
      " Total Fwd Packets                 630\n",
      " Total Backward Packets            960\n",
      "Total Length of Fwd Packets       9551\n",
      " Total Length of Bwd Packets     24369\n",
      " Fwd Packet Length Max            1414\n",
      " Fwd Packet Length Min             210\n",
      " Fwd Packet Length Mean          35425\n",
      " Fwd Packet Length Std           46834\n",
      "Bwd Packet Length Max             1331\n",
      " Bwd Packet Length Min             498\n",
      " Bwd Packet Length Mean          39232\n",
      " Bwd Packet Length Std           45960\n",
      "Flow Bytes/s                    188794\n",
      " Flow Packets/s                 283234\n",
      " Flow IAT Mean                  273461\n",
      " Flow IAT Std                   162828\n",
      " Flow IAT Max                   255239\n",
      " Flow IAT Min                   135133\n",
      "Fwd IAT Total                   204212\n",
      " Fwd IAT Mean                   208453\n",
      " Fwd IAT Std                    147365\n",
      " Fwd IAT Max                    199586\n",
      " Fwd IAT Min                    102164\n",
      "Bwd IAT Total                   110639\n",
      " Bwd IAT Mean                   113586\n",
      " Bwd IAT Std                    106767\n",
      " Bwd IAT Max                    106786\n",
      " Bwd IAT Min                     19526\n",
      "Fwd PSH Flags                        3\n",
      " Bwd PSH Flags                       2\n",
      " Fwd URG Flags                       2\n",
      " Bwd URG Flags                       3\n",
      " Fwd Header Length                1797\n",
      " Bwd Header Length                2014\n",
      "Fwd Packets/s                   283224\n",
      " Bwd Packets/s                  202283\n",
      " Min Packet Length                  96\n",
      " Max Packet Length                1433\n",
      " Packet Length Mean              57159\n",
      " Packet Length Std               64653\n",
      " Packet Length Variance          64402\n",
      "FIN Flag Count                       4\n",
      " SYN Flag Count                      4\n",
      " RST Flag Count                      3\n",
      " PSH Flag Count                      3\n",
      " ACK Flag Count                      4\n",
      " URG Flag Count                      3\n",
      " CWE Flag Count                      4\n",
      " ECE Flag Count                      2\n",
      " Down/Up Ratio                      26\n",
      " Average Packet Size             52110\n",
      " Avg Fwd Segment Size            31963\n",
      " Avg Bwd Segment Size            36950\n",
      " Fwd Header Length.1              1797\n",
      "Fwd Avg Bytes/Bulk                   5\n",
      " Fwd Avg Packets/Bulk                2\n",
      " Fwd Avg Bulk Rate                   2\n",
      " Bwd Avg Bytes/Bulk                  2\n",
      " Bwd Avg Packets/Bulk                2\n",
      "Bwd Avg Bulk Rate                    2\n",
      "Subflow Fwd Packets                629\n",
      " Subflow Fwd Bytes                9551\n",
      " Subflow Bwd Packets               960\n",
      " Subflow Bwd Bytes               24369\n",
      "Init_Win_bytes_forward            4023\n",
      " Init_Win_bytes_backward          3520\n",
      " act_data_pkt_fwd                  234\n",
      " min_seg_size_forward               24\n",
      "Active Mean                      36917\n",
      " Active Std                       6071\n",
      " Active Max                      36839\n",
      " Active Min                      36582\n",
      "Idle Mean                        39824\n",
      " Idle Std                         8888\n",
      " Idle Max                        39790\n",
      " Idle Min                        39785\n",
      "Label                                4\n",
      "dtype: int64\n"
     ]
    }
   ],
   "source": [
    "with pd.option_context('display.max_rows', None):\n",
    "    print(df.nunique(dropna=False))"
   ]
  },
  {
   "cell_type": "code",
   "execution_count": 28,
   "id": "19abd5c4",
   "metadata": {},
   "outputs": [
    {
     "data": {
      "text/plain": [
       "array([ 0., nan])"
      ]
     },
     "execution_count": 28,
     "metadata": {},
     "output_type": "execute_result"
    }
   ],
   "source": [
    "df[\" Fwd Avg Bulk Rate\"].unique()"
   ]
  },
  {
   "cell_type": "markdown",
   "id": "c258c42e",
   "metadata": {},
   "source": [
    "Są kolumny które mają jedną wartość albo NA"
   ]
  },
  {
   "cell_type": "code",
   "execution_count": 8,
   "id": "95aaab95",
   "metadata": {
    "scrolled": true
   },
   "outputs": [
    {
     "data": {
      "text/plain": [
       "4"
      ]
     },
     "execution_count": 8,
     "metadata": {},
     "output_type": "execute_result"
    }
   ],
   "source": [
    "max(df.isna().sum())"
   ]
  },
  {
   "cell_type": "code",
   "execution_count": 9,
   "id": "2e40fddf",
   "metadata": {},
   "outputs": [
    {
     "data": {
      "text/plain": [
       "117"
      ]
     },
     "execution_count": 9,
     "metadata": {},
     "output_type": "execute_result"
    }
   ],
   "source": [
    "df.isna().sum().sum()"
   ]
  },
  {
   "cell_type": "markdown",
   "id": "dc165dee",
   "metadata": {},
   "source": [
    "Są maksymalnie 4 NA na kolumne raczej można bezpiecznie usunąć"
   ]
  },
  {
   "cell_type": "code",
   "execution_count": 34,
   "id": "14a0f87a",
   "metadata": {},
   "outputs": [
    {
     "data": {
      "text/plain": [
       "4"
      ]
     },
     "execution_count": 34,
     "metadata": {},
     "output_type": "execute_result"
    }
   ],
   "source": [
    "len(df) - len(df.dropna())"
   ]
  },
  {
   "cell_type": "markdown",
   "id": "fc7eeb21",
   "metadata": {},
   "source": [
    "Wszystkie NA są w 4 wierszach usunięcie ich nie boli nas"
   ]
  },
  {
   "cell_type": "code",
   "execution_count": 13,
   "id": "2fadf288",
   "metadata": {},
   "outputs": [],
   "source": [
    "df = df.dropna()"
   ]
  },
  {
   "cell_type": "code",
   "execution_count": 19,
   "id": "8a2c71b4",
   "metadata": {
    "scrolled": false
   },
   "outputs": [
    {
     "data": {
      "text/plain": [
       "Index([' Bwd PSH Flags', ' Fwd URG Flags', ' Bwd URG Flags', ' RST Flag Count',\n",
       "       ' ECE Flag Count', ' Fwd Avg Packets/Bulk', ' Fwd Avg Bulk Rate',\n",
       "       ' Bwd Avg Bytes/Bulk', ' Bwd Avg Packets/Bulk', 'Bwd Avg Bulk Rate'],\n",
       "      dtype='object')"
      ]
     },
     "execution_count": 19,
     "metadata": {},
     "output_type": "execute_result"
    }
   ],
   "source": [
    "col_to_drop = df.columns[df.nunique() <= 1]\n",
    "col_to_drop"
   ]
  },
  {
   "cell_type": "markdown",
   "id": "1c496d71",
   "metadata": {},
   "source": [
    "jest 10 kolumn które nie niosą żadnej wiadomości, można się ich pozbyć "
   ]
  },
  {
   "cell_type": "code",
   "execution_count": 41,
   "id": "95ea13f9",
   "metadata": {},
   "outputs": [],
   "source": [
    "df = df.drop(columns = col_to_drop)"
   ]
  },
  {
   "cell_type": "code",
   "execution_count": 47,
   "id": "55c388f5",
   "metadata": {},
   "outputs": [
    {
     "data": {
      "text/plain": [
       "<AxesSubplot:>"
      ]
     },
     "execution_count": 47,
     "metadata": {},
     "output_type": "execute_result"
    },
    {
     "data": {
      "image/png": "[encoded data removed]",
      "text/plain": [
       "<Figure size 720x360 with 1 Axes>"
      ]
     },
     "metadata": {
      "needs_background": "light"
     },
     "output_type": "display_data"
    }
   ],
   "source": [
    "df.iloc[:, -1].hist()"
   ]
  },
  {
   "cell_type": "markdown",
   "id": "64920dcd",
   "metadata": {},
   "source": [
    "\"Adware jest niechcianym oprogramowaniem służącym do wyświetlania reklam na Twoim ekranie\". Adware generuje przychody dla swoich twórców dzięki automatycznemu wyświetlaniu internetowych reklam w interfejsie użytkownika danej aplikacji lub w formie okienek wyskakujących podczas procesu instalacji.\n",
    "\n",
    "Scareware is a type of malware attack that claims to have detected a virus or other issue on a device and directs the user to download or buy malicious software to resolve the problem. Generally speaking, scareware is the gateway to a more intricate cyberattack and not an attack in and of itself.\n",
    "\n",
    "benign - having no harmful influence or effect\n",
    "\n"
   ]
  }
 ],
 "metadata": {
  "kernelspec": {
   "display_name": "Python 3 (ipykernel)",
   "language": "python",
   "name": "python3"
  },
  "language_info": {
   "codemirror_mode": {
    "name": "ipython",
    "version": 3
   },
   "file_extension": ".py",
   "mimetype": "text/x-python",
   "name": "python",
   "nbconvert_exporter": "python",
   "pygments_lexer": "ipython3",
   "version": "3.9.7"
  }
 },
 "nbformat": 4,
 "nbformat_minor": 5
}
