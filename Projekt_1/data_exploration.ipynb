{
 "cells": [
  {
   "cell_type": "code",
   "execution_count": 1,
   "id": "7984a3e7",
   "metadata": {},
   "outputs": [
    {
     "name": "stdout",
     "output_type": "stream",
     "text": [
      "\u001b[34mdata\u001b[m\u001b[m/                   data_exploration.ipynb\r\n"
     ]
    }
   ],
   "source": [
    "%ls"
   ]
  },
  {
   "cell_type": "code",
   "execution_count": 3,
   "id": "c50ba91e",
   "metadata": {},
   "outputs": [
    {
     "name": "stdout",
     "output_type": "stream",
     "text": [
      "Android_Malware.csv\r\n"
     ]
    }
   ],
   "source": [
    "%ls data"
   ]
  },
  {
   "cell_type": "code",
   "execution_count": 4,
   "id": "2d8d6302",
   "metadata": {},
   "outputs": [
    {
     "name": "stderr",
     "output_type": "stream",
     "text": [
      "/Users/mat/opt/anaconda3/lib/python3.9/site-packages/IPython/core/interactiveshell.py:3444: DtypeWarning: Columns (56,58,63) have mixed types.Specify dtype option on import or set low_memory=False.\n",
      "  exec(code_obj, self.user_global_ns, self.user_ns)\n"
     ]
    }
   ],
   "source": [
    "import pandas as pd\n",
    "# Read the CSV file into a data frame\n",
    "df = pd.read_csv('data/Android_Malware.csv')"
   ]
  },
  {
   "cell_type": "code",
   "execution_count": 9,
   "id": "e924aa33",
   "metadata": {},
   "outputs": [
    {
     "name": "stdout",
     "output_type": "stream",
     "text": [
      "<class 'pandas.core.frame.DataFrame'>\n",
      "RangeIndex: 355630 entries, 0 to 355629\n",
      "Data columns (total 86 columns):\n",
      " #   Column                        Non-Null Count   Dtype  \n",
      "---  ------                        --------------   -----  \n",
      " 0   Unnamed: 0                    355630 non-null  int64  \n",
      " 1   Flow ID                       355629 non-null  object \n",
      " 2    Source IP                    355630 non-null  object \n",
      " 3    Source Port                  355630 non-null  int64  \n",
      " 4    Destination IP               355630 non-null  object \n",
      " 5    Destination Port             355630 non-null  float64\n",
      " 6    Protocol                     355630 non-null  float64\n",
      " 7    Timestamp                    355630 non-null  object \n",
      " 8    Flow Duration                355630 non-null  int64  \n",
      " 9    Total Fwd Packets            355630 non-null  int64  \n",
      " 10   Total Backward Packets       355630 non-null  int64  \n",
      " 11  Total Length of Fwd Packets   355630 non-null  float64\n",
      " 12   Total Length of Bwd Packets  355630 non-null  float64\n",
      " 13   Fwd Packet Length Max        355630 non-null  float64\n",
      " 14   Fwd Packet Length Min        355630 non-null  float64\n",
      " 15   Fwd Packet Length Mean       355630 non-null  float64\n",
      " 16   Fwd Packet Length Std        355630 non-null  float64\n",
      " 17  Bwd Packet Length Max         355630 non-null  float64\n",
      " 18   Bwd Packet Length Min        355630 non-null  float64\n",
      " 19   Bwd Packet Length Mean       355630 non-null  float64\n",
      " 20   Bwd Packet Length Std        355630 non-null  float64\n",
      " 21  Flow Bytes/s                  355630 non-null  float64\n",
      " 22   Flow Packets/s               355630 non-null  float64\n",
      " 23   Flow IAT Mean                355630 non-null  float64\n",
      " 24   Flow IAT Std                 355630 non-null  float64\n",
      " 25   Flow IAT Max                 355630 non-null  float64\n",
      " 26   Flow IAT Min                 355630 non-null  float64\n",
      " 27  Fwd IAT Total                 355630 non-null  float64\n",
      " 28   Fwd IAT Mean                 355630 non-null  float64\n",
      " 29   Fwd IAT Std                  355630 non-null  float64\n",
      " 30   Fwd IAT Max                  355630 non-null  float64\n",
      " 31   Fwd IAT Min                  355630 non-null  float64\n",
      " 32  Bwd IAT Total                 355630 non-null  float64\n",
      " 33   Bwd IAT Mean                 355630 non-null  float64\n",
      " 34   Bwd IAT Std                  355630 non-null  float64\n",
      " 35   Bwd IAT Max                  355630 non-null  float64\n",
      " 36   Bwd IAT Min                  355630 non-null  float64\n",
      " 37  Fwd PSH Flags                 355630 non-null  float64\n",
      " 38   Bwd PSH Flags                355630 non-null  float64\n",
      " 39   Fwd URG Flags                355630 non-null  int64  \n",
      " 40   Bwd URG Flags                355630 non-null  int64  \n",
      " 41   Fwd Header Length            355630 non-null  int64  \n",
      " 42   Bwd Header Length            355630 non-null  int64  \n",
      " 43  Fwd Packets/s                 355630 non-null  float64\n",
      " 44   Bwd Packets/s                355629 non-null  float64\n",
      " 45   Min Packet Length            355629 non-null  float64\n",
      " 46   Max Packet Length            355629 non-null  float64\n",
      " 47   Packet Length Mean           355629 non-null  float64\n",
      " 48   Packet Length Std            355629 non-null  float64\n",
      " 49   Packet Length Variance       355629 non-null  float64\n",
      " 50  FIN Flag Count                355629 non-null  float64\n",
      " 51   SYN Flag Count               355629 non-null  float64\n",
      " 52   RST Flag Count               355629 non-null  float64\n",
      " 53   PSH Flag Count               355629 non-null  float64\n",
      " 54   ACK Flag Count               355629 non-null  float64\n",
      " 55   URG Flag Count               355629 non-null  float64\n",
      " 56   CWE Flag Count               355629 non-null  object \n",
      " 57   ECE Flag Count               355628 non-null  float64\n",
      " 58   Down/Up Ratio                355628 non-null  object \n",
      " 59   Average Packet Size          355627 non-null  float64\n",
      " 60   Avg Fwd Segment Size         355627 non-null  float64\n",
      " 61   Avg Bwd Segment Size         355627 non-null  float64\n",
      " 62   Fwd Header Length.1          355627 non-null  float64\n",
      " 63  Fwd Avg Bytes/Bulk            355627 non-null  object \n",
      " 64   Fwd Avg Packets/Bulk         355626 non-null  float64\n",
      " 65   Fwd Avg Bulk Rate            355626 non-null  float64\n",
      " 66   Bwd Avg Bytes/Bulk           355626 non-null  float64\n",
      " 67   Bwd Avg Packets/Bulk         355626 non-null  float64\n",
      " 68  Bwd Avg Bulk Rate             355626 non-null  float64\n",
      " 69  Subflow Fwd Packets           355626 non-null  float64\n",
      " 70   Subflow Fwd Bytes            355626 non-null  float64\n",
      " 71   Subflow Bwd Packets          355626 non-null  float64\n",
      " 72   Subflow Bwd Bytes            355626 non-null  float64\n",
      " 73  Init_Win_bytes_forward        355626 non-null  float64\n",
      " 74   Init_Win_bytes_backward      355626 non-null  float64\n",
      " 75   act_data_pkt_fwd             355626 non-null  float64\n",
      " 76   min_seg_size_forward         355626 non-null  float64\n",
      " 77  Active Mean                   355626 non-null  float64\n",
      " 78   Active Std                   355626 non-null  float64\n",
      " 79   Active Max                   355626 non-null  float64\n",
      " 80   Active Min                   355626 non-null  float64\n",
      " 81  Idle Mean                     355626 non-null  float64\n",
      " 82   Idle Std                     355626 non-null  float64\n",
      " 83   Idle Max                     355626 non-null  float64\n",
      " 84   Idle Min                     355626 non-null  float64\n",
      " 85  Label                         355630 non-null  object \n",
      "dtypes: float64(69), int64(9), object(8)\n",
      "memory usage: 233.3+ MB\n"
     ]
    }
   ],
   "source": [
    "df.info()"
   ]
  }
 ],
 "metadata": {
  "kernelspec": {
   "display_name": "Python 3 (ipykernel)",
   "language": "python",
   "name": "python3"
  },
  "language_info": {
   "codemirror_mode": {
    "name": "ipython",
    "version": 3
   },
   "file_extension": ".py",
   "mimetype": "text/x-python",
   "name": "python",
   "nbconvert_exporter": "python",
   "pygments_lexer": "ipython3",
   "version": "3.9.7"
  }
 },
 "nbformat": 4,
 "nbformat_minor": 5
}
