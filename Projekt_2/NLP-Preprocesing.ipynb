{
 "cells": [
  {
   "cell_type": "code",
   "execution_count": 1,
   "id": "c38a19f4",
   "metadata": {},
   "outputs": [
    {
     "name": "stderr",
     "output_type": "stream",
     "text": [
      "[nltk_data] Downloading package punkt to\n",
      "[nltk_data]     C:\\Users\\Micha\\AppData\\Roaming\\nltk_data...\n",
      "[nltk_data]   Package punkt is already up-to-date!\n"
     ]
    },
    {
     "data": {
      "text/plain": [
       "True"
      ]
     },
     "execution_count": 1,
     "metadata": {},
     "output_type": "execute_result"
    }
   ],
   "source": [
    "import nltk\n",
    "from nltk.tokenize import word_tokenize, RegexpTokenizer\n",
    "from nltk.corpus import stopwords\n",
    "import enchant\n",
    "import pandas as pd\n",
    "import os\n",
    "import re\n",
    "nltk.download('punkt')"
   ]
  },
  {
   "cell_type": "code",
   "execution_count": 2,
   "id": "eae80e09",
   "metadata": {},
   "outputs": [],
   "source": [
    "def Remove_stop_words(data):\n",
    "    stop_words = set(stopwords.words('english'))\n",
    "    data = [w for w in data if not w.lower() in stop_words]\n",
    "    return data"
   ]
  },
  {
   "cell_type": "code",
   "execution_count": 91,
   "id": "eabd5e4b",
   "metadata": {},
   "outputs": [],
   "source": [
    "def Replace_all_numbers(data):\n",
    "    if type(data) == type([]):\n",
    "        data = \" \".join(data)\n",
    "        \n",
    "    data = re.sub('(\\d+\\s)+','number', data)\n",
    "    \n",
    "    return data.split(\" \")"
   ]
  },
  {
   "cell_type": "code",
   "execution_count": 53,
   "id": "df490b50",
   "metadata": {},
   "outputs": [],
   "source": [
    "def Find_words(data):\n",
    "    d = enchant.Dict(\"en_US\")\n",
    "    return [word for word in data if(word !='' and  d.check(word))]\n",
    "    "
   ]
  },
  {
   "cell_type": "code",
   "execution_count": 83,
   "id": "40d38bfb",
   "metadata": {},
   "outputs": [],
   "source": [
    "def Formating(data):\n",
    "    # Bierzemy wszystko po pierwszych 2 enterach czyli po opisie technicznym\n",
    "    formated = data.split('\\n\\n')[1:]\n",
    "    formated = ' '.join(formated).lower() # zamiana na małe litery\n",
    "    \n",
    "    # Wyrzucamy wszystkie wyrażenia słowo.słowo i adresy mail\n",
    "    formated = re.sub('((\\w+\\.)+\\w+)|\\w+@\\w+','', formated)\n",
    "    \n",
    "    # Ekstraktujemy słowa z tekstu\n",
    "    tokenizer = RegexpTokenizer(r\"\\w+\")\n",
    "    formated= tokenizer.tokenize(formated)\n",
    "    \n",
    "    # Podmieniamy wszystkie liczby i ciągi liczb na number \n",
    "    formated = Replace_all_numbers(formated)\n",
    "    \n",
    "    # Wybieramy słowa z języka angielskiego\n",
    "    formated = Find_words(formated)\n",
    "    \n",
    "    # Usuwamy stop wordsy\n",
    "    formated = Remove_stop_words(formated)\n",
    "    \n",
    "    return ' '.join(formated)"
   ]
  },
  {
   "cell_type": "code",
   "execution_count": 89,
   "id": "7bae3d2a",
   "metadata": {},
   "outputs": [],
   "source": [
    "list = []\n",
    "# ścieżka do plików\n",
    "p = os.getcwd()+'\\data'\n",
    "for folder in os.listdir(p):\n",
    "    mails = os.listdir(p + '/' + folder)\n",
    "    for mail in mails:\n",
    "        path = p + '/' + folder + '/' + mail\n",
    "        with open(path) as file:\n",
    "            data = file.read()\n",
    "        text = Formating(data)\n",
    "        list.append([text, mail, folder])"
   ]
  },
  {
   "cell_type": "code",
   "execution_count": 90,
   "id": "0702611b",
   "metadata": {},
   "outputs": [
    {
     "data": {
      "text/html": [
       "<div>\n",
       "<style scoped>\n",
       "    .dataframe tbody tr th:only-of-type {\n",
       "        vertical-align: middle;\n",
       "    }\n",
       "\n",
       "    .dataframe tbody tr th {\n",
       "        vertical-align: top;\n",
       "    }\n",
       "\n",
       "    .dataframe thead th {\n",
       "        text-align: right;\n",
       "    }\n",
       "</style>\n",
       "<table border=\"1\" class=\"dataframe\">\n",
       "  <thead>\n",
       "    <tr style=\"text-align: right;\">\n",
       "      <th></th>\n",
       "      <th>Text</th>\n",
       "      <th>File</th>\n",
       "      <th>Cluster</th>\n",
       "    </tr>\n",
       "  </thead>\n",
       "  <tbody>\n",
       "    <tr>\n",
       "      <th>0</th>\n",
       "      <td>archive name atheism resources alt atheism arc...</td>\n",
       "      <td>49960</td>\n",
       "      <td>alt.atheism</td>\n",
       "    </tr>\n",
       "    <tr>\n",
       "      <th>1</th>\n",
       "      <td>archive name atheism introduction alt atheism ...</td>\n",
       "      <td>51060</td>\n",
       "      <td>alt.atheism</td>\n",
       "    </tr>\n",
       "    <tr>\n",
       "      <th>2</th>\n",
       "      <td>article writes well john quite different neces...</td>\n",
       "      <td>51119</td>\n",
       "      <td>alt.atheism</td>\n",
       "    </tr>\n",
       "    <tr>\n",
       "      <th>3</th>\n",
       "      <td>kings become philosophers philosophers become ...</td>\n",
       "      <td>51120</td>\n",
       "      <td>alt.atheism</td>\n",
       "    </tr>\n",
       "    <tr>\n",
       "      <th>4</th>\n",
       "      <td>article bob writes hate economic terrorism pol...</td>\n",
       "      <td>51121</td>\n",
       "      <td>alt.atheism</td>\n",
       "    </tr>\n",
       "    <tr>\n",
       "      <th>...</th>\n",
       "      <td>...</td>\n",
       "      <td>...</td>\n",
       "      <td>...</td>\n",
       "    </tr>\n",
       "    <tr>\n",
       "      <th>19992</th>\n",
       "      <td>article writes mean stretching possible includ...</td>\n",
       "      <td>84566</td>\n",
       "      <td>talk.religion.misc</td>\n",
       "    </tr>\n",
       "    <tr>\n",
       "      <th>19993</th>\n",
       "      <td>article peter lamb writes com john e king writ...</td>\n",
       "      <td>84567</td>\n",
       "      <td>talk.religion.misc</td>\n",
       "    </tr>\n",
       "    <tr>\n",
       "      <th>19994</th>\n",
       "      <td>article bill writes would like understand bett...</td>\n",
       "      <td>84568</td>\n",
       "      <td>talk.religion.misc</td>\n",
       "    </tr>\n",
       "    <tr>\n",
       "      <th>19995</th>\n",
       "      <td>article danger anti cult groups expose lot dec...</td>\n",
       "      <td>84569</td>\n",
       "      <td>talk.religion.misc</td>\n",
       "    </tr>\n",
       "    <tr>\n",
       "      <th>19996</th>\n",
       "      <td>article bill writes wrote thoughts jack go par...</td>\n",
       "      <td>84570</td>\n",
       "      <td>talk.religion.misc</td>\n",
       "    </tr>\n",
       "  </tbody>\n",
       "</table>\n",
       "<p>19997 rows × 3 columns</p>\n",
       "</div>"
      ],
      "text/plain": [
       "                                                    Text   File  \\\n",
       "0      archive name atheism resources alt atheism arc...  49960   \n",
       "1      archive name atheism introduction alt atheism ...  51060   \n",
       "2      article writes well john quite different neces...  51119   \n",
       "3      kings become philosophers philosophers become ...  51120   \n",
       "4      article bob writes hate economic terrorism pol...  51121   \n",
       "...                                                  ...    ...   \n",
       "19992  article writes mean stretching possible includ...  84566   \n",
       "19993  article peter lamb writes com john e king writ...  84567   \n",
       "19994  article bill writes would like understand bett...  84568   \n",
       "19995  article danger anti cult groups expose lot dec...  84569   \n",
       "19996  article bill writes wrote thoughts jack go par...  84570   \n",
       "\n",
       "                  Cluster  \n",
       "0             alt.atheism  \n",
       "1             alt.atheism  \n",
       "2             alt.atheism  \n",
       "3             alt.atheism  \n",
       "4             alt.atheism  \n",
       "...                   ...  \n",
       "19992  talk.religion.misc  \n",
       "19993  talk.religion.misc  \n",
       "19994  talk.religion.misc  \n",
       "19995  talk.religion.misc  \n",
       "19996  talk.religion.misc  \n",
       "\n",
       "[19997 rows x 3 columns]"
      ]
     },
     "execution_count": 90,
     "metadata": {},
     "output_type": "execute_result"
    }
   ],
   "source": [
    "df = pd.DataFrame(list, columns = [\"Text\", \"File\",\"Cluster\"])\n",
    "df"
   ]
  },
  {
   "cell_type": "code",
   "execution_count": null,
   "id": "6d896200",
   "metadata": {},
   "outputs": [],
   "source": []
  }
 ],
 "metadata": {
  "kernelspec": {
   "display_name": "Python 3 (ipykernel)",
   "language": "python",
   "name": "python3"
  },
  "language_info": {
   "codemirror_mode": {
    "name": "ipython",
    "version": 3
   },
   "file_extension": ".py",
   "mimetype": "text/x-python",
   "name": "python",
   "nbconvert_exporter": "python",
   "pygments_lexer": "ipython3",
   "version": "3.9.12"
  }
 },
 "nbformat": 4,
 "nbformat_minor": 5
}
